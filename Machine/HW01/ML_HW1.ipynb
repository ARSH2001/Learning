{
 "cells": [
  {
   "cell_type": "markdown",
   "id": "7a2e87de",
   "metadata": {
    "direction": "rtl"
   },
   "source": [
    "# پیاده سازی تابع داده شده و مشخص  نمودن متغیرهای عمومی"
   ]
  },
  {
   "cell_type": "code",
   "execution_count": 1,
   "id": "0e287e7e",
   "metadata": {},
   "outputs": [],
   "source": [
    "import numpy as np\n",
    "\n",
    "#Global covarince\n",
    "covariance = np.array([[1.,0.],[0.,1.]])\n",
    "\n",
    "#Global dimension\n",
    "d = 2\n",
    "\n",
    "#Implement the probability of Multivarint normal distribution\n",
    "def multivariate_normal(x,mean):\n",
    "    \"\"\"pdf of the multivariate normal distribution.\"\"\"\n",
    "    x_m = x - mean\n",
    "    return (1. / (np.sqrt((2 * np.pi)**d * np.linalg.det(covariance))) * np.exp(-(np.linalg.solve(covariance, x_m).T.dot(x_m)) / 2))\n"
   ]
  },
  {
   "cell_type": "markdown",
   "id": "f9d833e8",
   "metadata": {
    "direction": "rtl"
   },
   "source": [
    "# باز کردن فایل و ذخیره کردن مختصات های x_1 و x_2 به صورت دو تایی در یک لیست"
   ]
  },
  {
   "cell_type": "code",
   "execution_count": 2,
   "id": "76862c03",
   "metadata": {},
   "outputs": [],
   "source": [
    "import csv\n",
    "with open(\"data1.csv\", \"r\") as file:\n",
    "    \n",
    "    #Read csv file\n",
    "    reader = csv.reader(file, delimiter=',')\n",
    "    \n",
    "    #Make list of points\n",
    "    points = []\n",
    "    \n",
    "    #For loop for appending points to their list\n",
    "    for row in reader:\n",
    "        points.append([row[0],row[1]])"
   ]
  },
  {
   "cell_type": "markdown",
   "id": "521b5957",
   "metadata": {
    "direction": "rtl"
   },
   "source": [
    "# انتصاب داده ها به هر یک از توزیع ها بر حسب احتمال تعلق آنها به هر یک از توزیع ها"
   ]
  },
  {
   "cell_type": "code",
   "execution_count": 3,
   "id": "d78a13a2",
   "metadata": {},
   "outputs": [],
   "source": [
    "#Make a list for points of first distribution\n",
    "distribution1 = []\n",
    "\n",
    "#Make a list for points of second distribution\n",
    "distribution2 = []\n",
    "\n",
    "#Make a list of probabilities that points belong to the first distribution\n",
    "Probability_distribution1 = []\n",
    "\n",
    "#Make a list of probabilities that points belong to the second distribution\n",
    "Probability_distribution2 = []\n",
    "\n",
    "#Mean of the first distribution\n",
    "mean1 = np.array([5.,5.])\n",
    "\n",
    "#Mean of the second distribution\n",
    "mean2 = np.array([2.,2.])\n",
    "\n",
    "#For loop for processing and assign each point to one distribution by comparison, the probability of belonging to each of the distributions\n",
    "for point in range(0,len(points)-1) :\n",
    "    \n",
    "    #Make a 1*2 vector from points with float type\n",
    "    x = np.array([float(points[point+1][0]),float(points[point+1][1])])\n",
    "\n",
    "    #If-statement for assigning a point to the first distribution\n",
    "    if multivariate_normal(x,mean1) > multivariate_normal(x,mean2) : \n",
    "        Probability_distribution1.append(multivariate_normal(x,mean1))\n",
    "        Probability_distribution2.append(multivariate_normal(x,mean2))\n",
    "        distribution1.append(x)\n",
    "        \n",
    "    #If-statement for assigning a point to the second distribution\n",
    "    if multivariate_normal(x,mean2) > multivariate_normal(x,mean1) :\n",
    "        Probability_distribution1.append(multivariate_normal(x,mean1))\n",
    "        Probability_distribution2.append(multivariate_normal(x,mean2))\n",
    "        distribution2.append(x)\n",
    "        \n",
    "#Convert lists to numpy arrays \n",
    "distribution1 = np.asarray(distribution1)\n",
    "distribution2 = np.asarray(distribution2)\n",
    "\n",
    "#Convert lists to numpy arrays\n",
    "Probability_distribution1 = np.asarray(Probability_distribution1)\n",
    "Probability_distribution2 = np.asarray(Probability_distribution2)"
   ]
  },
  {
   "cell_type": "markdown",
   "id": "d6e9c08f",
   "metadata": {
    "direction": "rtl"
   },
   "source": [
    "# نمایش داده ها انتصاب شده در مرحله قبل در یک نمودار با دو رنگ متفاوت"
   ]
  },
  {
   "cell_type": "code",
   "execution_count": 4,
   "id": "9fd4e68f",
   "metadata": {},
   "outputs": [
    {
     "data": {
      "text/plain": [
       "<function matplotlib.pyplot.show(close=None, block=None)>"
      ]
     },
     "execution_count": 4,
     "metadata": {},
     "output_type": "execute_result"
    },
    {
     "data": {
      "image/png": "[encoded data removed]",
      "text/plain": [
       "<Figure size 432x288 with 1 Axes>"
      ]
     },
     "metadata": {
      "needs_background": "light"
     },
     "output_type": "display_data"
    }
   ],
   "source": [
    "import matplotlib.pyplot as plt\n",
    "\n",
    "#Showing points of the first distribution\n",
    "plt.plot(distribution1[:,0],distribution1[:,1],'ro',label = \"First distribution\")\n",
    "\n",
    "#Showing points of the second distribution\n",
    "plt.plot(distribution2[:,0],distribution2[:,1],'bo',label =\"Second distribution\")\n",
    "\n",
    "#Determine the position of the chart guide\n",
    "plt.legend(loc = \"lower right\")\n",
    "\n",
    "#Specify the subject of the chart\n",
    "plt.title(\"Classified data\")\n",
    "\n",
    "#Show chart\n",
    "plt.show\n",
    "\n"
   ]
  },
  {
   "cell_type": "markdown",
   "id": "7005a3fe",
   "metadata": {
    "direction": "rtl"
   },
   "source": [
    "# محاسبه تابع شباهت و لاگ تابع شباهت برای هر دو توزیع"
   ]
  },
  {
   "cell_type": "code",
   "execution_count": 5,
   "id": "f6a50d9e",
   "metadata": {},
   "outputs": [
    {
     "name": "stdout",
     "output_type": "stream",
     "text": [
      "0.0\n",
      "-7254.811516924357\n",
      "0.0\n",
      "-7239.434376472873\n"
     ]
    }
   ],
   "source": [
    "#Implement the Likelihood Function \n",
    "def Likelihood(Probabilities) : \n",
    "    return np.prod(Probabilities)\n",
    "\n",
    "#Implement the Log Likelihood Function\n",
    "def LogLikelihood(Probabilities):\n",
    "    return np.sum(np.log(Probabilities))\n",
    "\n",
    "#Apply the Likelihood Function to the first distribution\n",
    "print(Likelihood(Probability_distribution1))\n",
    "\n",
    "\n",
    "#Apply the Log Likelihood Function to the first distribution\n",
    "print(LogLikelihood(Probability_distribution1))\n",
    "\n",
    "\n",
    "#Apply the Likelihood Function to the second distribution\n",
    "print(Likelihood(Probability_distribution2))\n",
    "\n",
    "\n",
    "#Apply the Log Likelihood Function to the second distribution\n",
    "print(LogLikelihood(Probability_distribution2))"
   ]
  },
  {
   "cell_type": "code",
   "execution_count": null,
   "id": "af00f76e",
   "metadata": {},
   "outputs": [],
   "source": []
  }
 ],
 "metadata": {
  "direction": "ltr",
  "kernelspec": {
   "display_name": "Python 3",
   "language": "python",
   "name": "python3"
  },
  "language_info": {
   "codemirror_mode": {
    "name": "ipython",
    "version": 3
   },
   "file_extension": ".py",
   "mimetype": "text/x-python",
   "name": "python",
   "nbconvert_exporter": "python",
   "pygments_lexer": "ipython3",
   "version": "3.8.8"
  }
 },
 "nbformat": 4,
 "nbformat_minor": 5
}
