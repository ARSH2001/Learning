{
  "cells": [
    {
      "cell_type": "markdown",
      "metadata": {
        "id": "I5xsSlLRLMO-"
      },
      "source": [
        "Welcome to the jupyter notebook! To run any cell, press `Shift+Enter` or `Ctrl+Enter`.\n",
        "\n",
        "**IMPORTANT** : Please have a look at `Help->User Interface Tour` and `Help->Keyboard Shortcuts` in the toolbar above that will help you get started."
      ]
    },
    {
      "cell_type": "code",
      "execution_count": 1,
      "metadata": {
        "id": "2LK4icptLMPA"
      },
      "outputs": [],
      "source": [
        "# Useful starting lines\n",
        "%matplotlib inline\n",
        "import numpy as np\n",
        "import matplotlib.pyplot as plt\n",
        "%load_ext autoreload\n",
        "%autoreload 2"
      ]
    },
    {
      "cell_type": "markdown",
      "metadata": {
        "id": "E1-nrAnoLMPB"
      },
      "source": [
        "# Notebook Basics"
      ]
    },
    {
      "cell_type": "markdown",
      "metadata": {
        "id": "V3Wy1Fl7LMPB"
      },
      "source": [
        "A cell contains any type of python inputs (expression, function definitions, etc...). Running a cell is equivalent to input this block in the python interpreter. The notebook will print the output of the last executed line."
      ]
    },
    {
      "cell_type": "code",
      "execution_count": 2,
      "metadata": {
        "colab": {
          "base_uri": "https://localhost:8080/"
        },
        "id": "CFTCjCtaLMPB",
        "outputId": "de9859ac-9b92-45eb-a8fe-43e5a4482214"
      },
      "outputs": [
        {
          "output_type": "execute_result",
          "data": {
            "text/plain": [
              "1"
            ]
          },
          "metadata": {},
          "execution_count": 2
        }
      ],
      "source": [
        "1"
      ]
    },
    {
      "cell_type": "code",
      "execution_count": 3,
      "metadata": {
        "id": "Ue-XchOSLMPC"
      },
      "outputs": [],
      "source": [
        "x = [2,3,4]\n",
        "\n",
        "def my_function(l):\n",
        "    l.append(12)"
      ]
    },
    {
      "cell_type": "code",
      "execution_count": 4,
      "metadata": {
        "colab": {
          "base_uri": "https://localhost:8080/"
        },
        "id": "aSbqrwwnLMPC",
        "outputId": "c6d92178-095c-41cd-824d-8ee79a882aeb"
      },
      "outputs": [
        {
          "output_type": "execute_result",
          "data": {
            "text/plain": [
              "[2, 3, 4, 12]"
            ]
          },
          "metadata": {},
          "execution_count": 4
        }
      ],
      "source": [
        "my_function(x)\n",
        "\n",
        "x"
      ]
    },
    {
      "cell_type": "code",
      "execution_count": 5,
      "metadata": {
        "colab": {
          "base_uri": "https://localhost:8080/",
          "height": 466
        },
        "id": "R_vdZnDyLMPC",
        "outputId": "d074dfdb-095e-44e5-97a3-f56e4e469bcf"
      },
      "outputs": [
        {
          "output_type": "execute_result",
          "data": {
            "text/plain": [
              "Text(0, 0.5, 'Y label')"
            ]
          },
          "metadata": {},
          "execution_count": 5
        },
        {
          "output_type": "display_data",
          "data": {
            "text/plain": [
              "<Figure size 640x480 with 1 Axes>"
            ],
            "image/png": "[encoded data removed]"
          },
          "metadata": {}
        }
      ],
      "source": [
        "# Matplotlib is used for plotting, plots are directly embedded in the\n",
        "# notebook thanks to the '%matplolib inline' command at the beginning\n",
        "plt.hist(np.random.randn(10000), bins=40)\n",
        "plt.xlabel('X label')\n",
        "plt.ylabel('Y label')"
      ]
    },
    {
      "cell_type": "markdown",
      "metadata": {
        "id": "QCE1fUd4LMPD"
      },
      "source": [
        "Numpy Basics\n",
        "============"
      ]
    },
    {
      "cell_type": "markdown",
      "metadata": {
        "id": "uj5TKQYLLMPD"
      },
      "source": [
        "**IMPORTANT** : the numpy documentation is quite good. The Notebook system is really good to help you. Use the Auto-Completion with `Tab`, and use `Shift+Tab` to get the complete documentation about the current function (when the cursor is between the parenthesis of the function for instance).\n",
        "\n",
        "For example, you want to multiply two arrays. `np.mul` + `Tab` complete to the only valid function `np.multiply`. Then using `Shift+Tab` you learn `np.multiply` is actually the element-wise multiplication and is equivalent to the `*` operator."
      ]
    },
    {
      "cell_type": "code",
      "execution_count": 6,
      "metadata": {
        "colab": {
          "base_uri": "https://localhost:8080/"
        },
        "id": "QpH95l1BLMPD",
        "outputId": "4f046a50-7a0a-4d62-a62b-3cc76b5fcd42"
      },
      "outputs": [
        {
          "output_type": "execute_result",
          "data": {
            "text/plain": [
              "<ufunc 'multiply'>"
            ]
          },
          "metadata": {},
          "execution_count": 6
        }
      ],
      "source": [
        "np.multiply"
      ]
    },
    {
      "cell_type": "markdown",
      "metadata": {
        "id": "58mZSxRALMPD"
      },
      "source": [
        "### Creation of arrays\n",
        "\n",
        "Creating ndarrays (`np.zeros`, `np.ones`) is done by giving the shape as an iterable (List or Tuple). An integer is also accepted for one-dimensional array.\n",
        "\n",
        "`np.eye` creates an identity matrix.\n",
        "\n",
        "You can also create an array by giving iterables to it.\n",
        "\n",
        "(NB : The random functions `np.random.rand` and `np.random.randn` are exceptions though)"
      ]
    },
    {
      "cell_type": "code",
      "execution_count": 7,
      "metadata": {
        "colab": {
          "base_uri": "https://localhost:8080/"
        },
        "id": "7XF_jbuLLMPD",
        "outputId": "d48bdc2b-8973-4492-e150-339683cd769c"
      },
      "outputs": [
        {
          "output_type": "execute_result",
          "data": {
            "text/plain": [
              "array([0., 0., 0., 0.])"
            ]
          },
          "metadata": {},
          "execution_count": 7
        }
      ],
      "source": [
        "np.zeros(4)"
      ]
    },
    {
      "cell_type": "code",
      "execution_count": 8,
      "metadata": {
        "colab": {
          "base_uri": "https://localhost:8080/"
        },
        "id": "VZNET5PMLMPD",
        "outputId": "049fa755-a710-47d5-c1fd-c42b42c6f53f"
      },
      "outputs": [
        {
          "output_type": "execute_result",
          "data": {
            "text/plain": [
              "array([[1., 0., 0.],\n",
              "       [0., 1., 0.],\n",
              "       [0., 0., 1.]])"
            ]
          },
          "metadata": {},
          "execution_count": 8
        }
      ],
      "source": [
        "np.eye(3)"
      ]
    },
    {
      "cell_type": "code",
      "execution_count": 9,
      "metadata": {
        "colab": {
          "base_uri": "https://localhost:8080/"
        },
        "id": "CaNFfEWuLMPE",
        "outputId": "e62939cc-cfb3-43b0-c02b-1ad9e1f953fa"
      },
      "outputs": [
        {
          "output_type": "execute_result",
          "data": {
            "text/plain": [
              "array([[1, 3, 4],\n",
              "       [2, 5, 6]])"
            ]
          },
          "metadata": {},
          "execution_count": 9
        }
      ],
      "source": [
        "np.array([[1,3,4],[2,5,6]])"
      ]
    },
    {
      "cell_type": "code",
      "execution_count": 10,
      "metadata": {
        "colab": {
          "base_uri": "https://localhost:8080/"
        },
        "id": "TBu5pcYULMPE",
        "outputId": "0e3137ff-20db-49b9-c89d-e1ef34e186fd"
      },
      "outputs": [
        {
          "output_type": "execute_result",
          "data": {
            "text/plain": [
              "array([0, 1, 2, 3, 4, 5, 6, 7, 8, 9])"
            ]
          },
          "metadata": {},
          "execution_count": 10
        }
      ],
      "source": [
        "np.arange(10)  # NB : np.array(range(10)) is a slightly more complicated equivalent"
      ]
    },
    {
      "cell_type": "code",
      "execution_count": 11,
      "metadata": {
        "colab": {
          "base_uri": "https://localhost:8080/"
        },
        "id": "AXHmRBqTLMPE",
        "outputId": "b803d50f-01d0-4023-c7eb-02cb6972611f"
      },
      "outputs": [
        {
          "output_type": "execute_result",
          "data": {
            "text/plain": [
              "array([[-1.26592239,  0.30606768, -0.37045297,  1.38788081],\n",
              "       [ 0.02035525,  0.95671994, -2.79954156, -0.75347077],\n",
              "       [-1.10287219, -0.52249799,  0.80901849, -0.72334453]])"
            ]
          },
          "metadata": {},
          "execution_count": 11
        }
      ],
      "source": [
        "np.random.randn(3, 4) # normal distributed values"
      ]
    },
    {
      "cell_type": "code",
      "execution_count": 12,
      "metadata": {
        "colab": {
          "base_uri": "https://localhost:8080/"
        },
        "id": "C9OL30b1LMPE",
        "outputId": "a90ab817-ae1f-41f4-ee1f-0bb9f9c3685b"
      },
      "outputs": [
        {
          "output_type": "execute_result",
          "data": {
            "text/plain": [
              "array([[[1., 1.],\n",
              "        [1., 1.],\n",
              "        [1., 1.],\n",
              "        [1., 1.]],\n",
              "\n",
              "       [[1., 1.],\n",
              "        [1., 1.],\n",
              "        [1., 1.],\n",
              "        [1., 1.]]])"
            ]
          },
          "metadata": {},
          "execution_count": 12
        }
      ],
      "source": [
        "# 3-D tensor\n",
        "tensor_3 = np.ones((2, 4, 2))\n",
        "tensor_3"
      ]
    },
    {
      "cell_type": "markdown",
      "metadata": {
        "id": "_FQ402VwLMPE"
      },
      "source": [
        "### ndarray basics\n",
        "\n",
        "A ndarray python object is just a reference to the data location and its characteristics.\n",
        "\n",
        "All numpy operations applying on an array can be called np._function_(a) or a._function_() (i.e `np.sum(a)` or `a.sum()`)\n",
        "\n",
        "It has an attribute `shape` that returns a tuple of the different dimensions of the ndarray. It also has an attribute `dtype` that describes the type of data of the object (default type is `float64`)\n",
        "\n",
        "**WARNING** because of the object structure, unless you call `copy()` copying the reference is not copying the data."
      ]
    },
    {
      "cell_type": "code",
      "execution_count": 13,
      "metadata": {
        "colab": {
          "base_uri": "https://localhost:8080/"
        },
        "id": "7kifm4l3LMPE",
        "outputId": "a70f4488-b9c0-4ce9-f42f-6cbf8a6aa292"
      },
      "outputs": [
        {
          "output_type": "execute_result",
          "data": {
            "text/plain": [
              "((2, 4, 2), dtype('float64'))"
            ]
          },
          "metadata": {},
          "execution_count": 13
        }
      ],
      "source": [
        "tensor_3.shape, tensor_3.dtype"
      ]
    },
    {
      "cell_type": "code",
      "execution_count": 14,
      "metadata": {
        "colab": {
          "base_uri": "https://localhost:8080/"
        },
        "id": "g5fomRyQLMPF",
        "outputId": "eca17e23-fd17-4954-8abc-fc52b28da929"
      },
      "outputs": [
        {
          "output_type": "execute_result",
          "data": {
            "text/plain": [
              "(dtype('int64'), dtype('float64'))"
            ]
          },
          "metadata": {},
          "execution_count": 14
        }
      ],
      "source": [
        "a = np.array([[1.0, 2.0], [5.0, 4.0]])\n",
        "b = np.array([[4, 3], [2, 1]])\n",
        "(b.dtype, a.dtype) # each array has a data type (casting rules apply for int -> float)"
      ]
    },
    {
      "cell_type": "code",
      "execution_count": 15,
      "metadata": {
        "colab": {
          "base_uri": "https://localhost:8080/"
        },
        "id": "-_no9xZxLMPF",
        "outputId": "a4d0fdd7-b0a4-459e-b8f3-95f4f0abc0a9"
      },
      "outputs": [
        {
          "output_type": "execute_result",
          "data": {
            "text/plain": [
              "array(['Mickey', 'Mouse'], dtype='<U6')"
            ]
          },
          "metadata": {},
          "execution_count": 15
        }
      ],
      "source": [
        "np.array([\"Mickey\", \"Mouse\"]) # can hold more than just numbers"
      ]
    },
    {
      "cell_type": "code",
      "execution_count": 16,
      "metadata": {
        "colab": {
          "base_uri": "https://localhost:8080/"
        },
        "id": "ujPcnAdFLMPF",
        "outputId": "d5ac8118-ee58-4244-8622-b67ba47d0c6a"
      },
      "outputs": [
        {
          "output_type": "execute_result",
          "data": {
            "text/plain": [
              "array([[3., 2.],\n",
              "       [5., 4.]])"
            ]
          },
          "metadata": {},
          "execution_count": 16
        }
      ],
      "source": [
        "a = np.array([[1.0, 2.0], [5.0, 4.0]])\n",
        "b = a  # Copying the reference only\n",
        "b[0,0] = 3\n",
        "a"
      ]
    },
    {
      "cell_type": "code",
      "execution_count": 17,
      "metadata": {
        "colab": {
          "base_uri": "https://localhost:8080/"
        },
        "id": "62Fvm5AnLMPF",
        "outputId": "27846f00-7d7e-4601-ffe8-edff5363ffdd"
      },
      "outputs": [
        {
          "output_type": "execute_result",
          "data": {
            "text/plain": [
              "array([[1., 2.],\n",
              "       [5., 4.]])"
            ]
          },
          "metadata": {},
          "execution_count": 17
        }
      ],
      "source": [
        "a = np.array([[1.0, 2.0], [5.0, 4.0]])\n",
        "b = a.copy()  # Deep-copy of the data\n",
        "b[0,0] = 3\n",
        "a"
      ]
    },
    {
      "cell_type": "markdown",
      "metadata": {
        "id": "DjTRNwNkLMPF"
      },
      "source": [
        "#### Basic operators are working element-wise (+, -, *, /)\n",
        "\n",
        "When trying to apply operators for arrays with different sizes, they are very specific rules that you might want to understand in the future : http://docs.scipy.org/doc/numpy/user/basics.broadcasting.html"
      ]
    },
    {
      "cell_type": "code",
      "execution_count": 18,
      "metadata": {
        "colab": {
          "base_uri": "https://localhost:8080/"
        },
        "id": "DF-JvC-8LMPF",
        "outputId": "6f028315-3142-41e5-c678-b4230fc71ba7"
      },
      "outputs": [
        {
          "output_type": "execute_result",
          "data": {
            "text/plain": [
              "array([[ 0.69779664,  3.31724443,  0.51915167,  0.60180214],\n",
              "       [ 1.9383517 ,  0.09369239,  1.07614423, -0.31765301]])"
            ]
          },
          "metadata": {},
          "execution_count": 18
        }
      ],
      "source": [
        "np.ones((2, 4)) * np.random.randn(2, 4)"
      ]
    },
    {
      "cell_type": "code",
      "execution_count": 19,
      "metadata": {
        "colab": {
          "base_uri": "https://localhost:8080/"
        },
        "id": "7Jdns7fHLMPF",
        "outputId": "57ea5023-a874-4f23-d0bc-e4907d485361"
      },
      "outputs": [
        {
          "output_type": "execute_result",
          "data": {
            "text/plain": [
              "array([[ 0., -1., -1.],\n",
              "       [-1.,  0., -1.],\n",
              "       [-1., -1.,  0.]])"
            ]
          },
          "metadata": {},
          "execution_count": 19
        }
      ],
      "source": [
        "np.eye(3) - np.ones((3,3))"
      ]
    },
    {
      "cell_type": "code",
      "execution_count": 20,
      "metadata": {
        "colab": {
          "base_uri": "https://localhost:8080/"
        },
        "id": "abCWYWV2LMPG",
        "outputId": "d5cfd77a-ae2a-4f9c-87a7-af29f52cd006"
      },
      "outputs": [
        {
          "output_type": "stream",
          "name": "stdout",
          "text": [
            "[[1. 2.]\n",
            " [5. 4.]]\n",
            "(2, 2)\n",
            "2\n"
          ]
        }
      ],
      "source": [
        "print(a)\n",
        "print(a.shape)  # Get shape\n",
        "print(a.shape[0])  # Get size of first dimension"
      ]
    },
    {
      "cell_type": "markdown",
      "metadata": {
        "id": "0VgjRdGMLMPG"
      },
      "source": [
        "#### Accessing elements and slicing\n",
        "\n",
        "For people uncomfortable with the slicing of arrays, please have a look at the 'Indexing and Slicing' section of http://www.python-course.eu/numpy.php"
      ]
    },
    {
      "cell_type": "code",
      "execution_count": 21,
      "metadata": {
        "colab": {
          "base_uri": "https://localhost:8080/"
        },
        "id": "EEU62hK2LMPG",
        "outputId": "74246331-1fa0-41d4-96d7-86d60414f41c"
      },
      "outputs": [
        {
          "output_type": "stream",
          "name": "stdout",
          "text": [
            "[1. 2.]\n",
            "[2. 4.]\n",
            "2.0\n"
          ]
        }
      ],
      "source": [
        "print(a[0])  # Get first line (slice for the first dimension)\n",
        "print(a[:, 1])  # Get second column (slice for the second dimension)\n",
        "print(a[0, 1])  # Get first line second column element"
      ]
    },
    {
      "cell_type": "markdown",
      "metadata": {
        "id": "UuqgG3pjLMPG"
      },
      "source": [
        "#### Changing the shape of arrays\n",
        "\n",
        "`ravel` creates a flattened view of an array (1-D representation) whereas `flatten` creates flattened copy of the array.\n",
        "\n",
        "`reshape` allows in-place modification of the shape of the data. `transpose` shuffles the dimensions.\n",
        "\n",
        "`np.newaxis` allows the creation of empty dimensions."
      ]
    },
    {
      "cell_type": "code",
      "execution_count": 22,
      "metadata": {
        "id": "ArGHsKMGLMPG"
      },
      "outputs": [],
      "source": [
        "a = np.array([[1.0, 2.0], [5.0, 4.0]])\n",
        "b = np.array([[4, 3], [2, 1]])\n",
        "v = np.array([0.5, 2.0])"
      ]
    },
    {
      "cell_type": "code",
      "execution_count": 23,
      "metadata": {
        "colab": {
          "base_uri": "https://localhost:8080/"
        },
        "id": "dL1TmWFbLMPG",
        "outputId": "db6a3348-0405-48d8-9929-371c453294b8"
      },
      "outputs": [
        {
          "output_type": "stream",
          "name": "stdout",
          "text": [
            "[[1. 2.]\n",
            " [5. 4.]]\n",
            "[[1. 5.]\n",
            " [2. 4.]]\n",
            "[1. 2. 5. 4.]\n"
          ]
        }
      ],
      "source": [
        "print(a)\n",
        "print(a.T)  # Equivalent : a.tranpose(), np.transpose(a)\n",
        "print(a.ravel())"
      ]
    },
    {
      "cell_type": "code",
      "execution_count": 24,
      "metadata": {
        "colab": {
          "base_uri": "https://localhost:8080/"
        },
        "id": "Yo_OJvhhLMPG",
        "outputId": "cac568ba-4167-4c73-eb4a-161ad8b653ba"
      },
      "outputs": [
        {
          "output_type": "stream",
          "name": "stdout",
          "text": [
            "(4, 5)\n",
            "(1, 4, 5)\n",
            "(5, 4)\n",
            "(10, 2)\n",
            "[[-0.56114139  2.30280222  0.55827484 -1.30432085  0.36439423]\n",
            " [ 0.17352691 -0.87091955 -0.72145492  1.78553325  0.48875771]\n",
            " [ 1.3601375  -0.03203345 -0.71265957  0.91910739  0.47451192]\n",
            " [-0.6561159   2.13936767  0.38265117  0.60730596 -1.51478222]]\n",
            "[[-0.56114139  2.30280222]\n",
            " [ 0.55827484 -1.30432085]\n",
            " [ 0.36439423  0.17352691]\n",
            " [-0.87091955 -0.72145492]\n",
            " [ 1.78553325  0.48875771]\n",
            " [ 1.3601375  -0.03203345]\n",
            " [-0.71265957  0.91910739]\n",
            " [ 0.47451192 -0.6561159 ]\n",
            " [ 2.13936767  0.38265117]\n",
            " [ 0.60730596 -1.51478222]]\n"
          ]
        }
      ],
      "source": [
        "c = np.random.randn(4,5)\n",
        "print(c.shape)\n",
        "print(c[np.newaxis].shape)  # Adding a dimension\n",
        "print(c.T.shape)\n",
        "print(c.reshape([10,2]).shape)\n",
        "print(c)\n",
        "print(c.reshape([10,2]))"
      ]
    },
    {
      "cell_type": "code",
      "execution_count": 25,
      "metadata": {
        "colab": {
          "base_uri": "https://localhost:8080/"
        },
        "id": "Qq18COcZLMPG",
        "outputId": "1be401fa-4b50-4dca-fbd4-fa7369cdb45e"
      },
      "outputs": [
        {
          "output_type": "execute_result",
          "data": {
            "text/plain": [
              "array([[1.],\n",
              "       [2.],\n",
              "       [5.],\n",
              "       [4.]])"
            ]
          },
          "metadata": {},
          "execution_count": 25
        }
      ],
      "source": [
        "a.reshape((-1, 1)) # a[-1] means 'whatever needs to go there'"
      ]
    },
    {
      "cell_type": "markdown",
      "metadata": {
        "id": "NmO4iM9NLMPH"
      },
      "source": [
        "#### Reduction operations\n",
        "\n",
        "Reduction operations (`np.sum`, `np.max`, `np.min`, `np.std`) work on the flattened ndarray by default. You can specify the reduction axis as an argument"
      ]
    },
    {
      "cell_type": "code",
      "execution_count": 26,
      "metadata": {
        "colab": {
          "base_uri": "https://localhost:8080/"
        },
        "id": "gJ1tDPBtLMPH",
        "outputId": "46719783-cfd2-4cc7-c75d-6620a1ae8d6a"
      },
      "outputs": [
        {
          "output_type": "execute_result",
          "data": {
            "text/plain": [
              "(np.float64(12.0), array([6., 6.]), array([3., 9.]))"
            ]
          },
          "metadata": {},
          "execution_count": 26
        }
      ],
      "source": [
        "np.sum(a), np.sum(a, axis=0), np.sum(a, axis=1) # reduce-operations reduce the whole array if no axis is specified"
      ]
    },
    {
      "cell_type": "markdown",
      "metadata": {
        "id": "5-Eyjnx5LMPH"
      },
      "source": [
        "#### Linear-algebra operations"
      ]
    },
    {
      "cell_type": "code",
      "execution_count": 27,
      "metadata": {
        "colab": {
          "base_uri": "https://localhost:8080/"
        },
        "id": "TYmov_tjLMPH",
        "outputId": "e71a9bae-05ad-4aa2-defa-4b24ca298275"
      },
      "outputs": [
        {
          "output_type": "execute_result",
          "data": {
            "text/plain": [
              "array([[ 8.,  5.],\n",
              "       [28., 19.]])"
            ]
          },
          "metadata": {},
          "execution_count": 27
        }
      ],
      "source": [
        "np.dot(a, b) # matrix multiplication"
      ]
    },
    {
      "cell_type": "code",
      "execution_count": 28,
      "metadata": {
        "colab": {
          "base_uri": "https://localhost:8080/"
        },
        "id": "sS8C7X7pLMPH",
        "outputId": "b49b1a01-e956-49aa-ba8d-543133962a33"
      },
      "outputs": [
        {
          "output_type": "execute_result",
          "data": {
            "text/plain": [
              "True"
            ]
          },
          "metadata": {},
          "execution_count": 28
        }
      ],
      "source": [
        "# Other ways of writing matrix multiplication, the '@' operator for matrix multiplication\n",
        "# was introduced in Python 3.5\n",
        "np.allclose(a.dot(b), a @ b)"
      ]
    },
    {
      "cell_type": "code",
      "execution_count": 29,
      "metadata": {
        "colab": {
          "base_uri": "https://localhost:8080/"
        },
        "id": "gh9tMMmcLMPH",
        "outputId": "deca545a-bf23-4f4c-d270-b5c820c48339"
      },
      "outputs": [
        {
          "output_type": "execute_result",
          "data": {
            "text/plain": [
              "EigResult(eigenvalues=array([-1.,  6.]), eigenvectors=array([[-0.70710678, -0.37139068],\n",
              "       [ 0.70710678, -0.92847669]]))"
            ]
          },
          "metadata": {},
          "execution_count": 29
        }
      ],
      "source": [
        "# For other linear algebra operations, use the np.linalg module\n",
        "np.linalg.eig(a)  # Eigen-decomposition"
      ]
    },
    {
      "cell_type": "code",
      "execution_count": 30,
      "metadata": {
        "colab": {
          "base_uri": "https://localhost:8080/"
        },
        "id": "B9dyWnKXLMPI",
        "outputId": "e81d1d3a-dd59-4ca1-e8c6-44a9b092173e"
      },
      "outputs": [
        {
          "output_type": "stream",
          "name": "stdout",
          "text": [
            "[[-0.66666667  0.33333333]\n",
            " [ 0.83333333 -0.16666667]]\n"
          ]
        },
        {
          "output_type": "execute_result",
          "data": {
            "text/plain": [
              "True"
            ]
          },
          "metadata": {},
          "execution_count": 30
        }
      ],
      "source": [
        "print(np.linalg.inv(a))  # Inverse\n",
        "np.allclose(np.linalg.inv(a) @ a, np.identity(a.shape[1]))  # a^-1 * a = Id"
      ]
    },
    {
      "cell_type": "code",
      "execution_count": 31,
      "metadata": {
        "colab": {
          "base_uri": "https://localhost:8080/"
        },
        "id": "on_vhUZmLMPI",
        "outputId": "4699608f-0cff-4034-f4a5-03c1271e0ef2"
      },
      "outputs": [
        {
          "output_type": "execute_result",
          "data": {
            "text/plain": [
              "array([0.33333333, 0.08333333])"
            ]
          },
          "metadata": {},
          "execution_count": 31
        }
      ],
      "source": [
        "np.linalg.solve(a, v) # solves ax = v"
      ]
    },
    {
      "cell_type": "markdown",
      "metadata": {
        "id": "w8JESTUSLMPI"
      },
      "source": [
        "#### Grouping operations\n",
        "\n",
        "Grouping operations (`np.stack`, `np.hstack`, `np.vstack`, `np.concatenate`) take an iterable of ndarrays and not ndarrays as separate arguments : np.concatenate([a,b]) and not np.concatenate(a,b)."
      ]
    },
    {
      "cell_type": "code",
      "execution_count": 32,
      "metadata": {
        "colab": {
          "base_uri": "https://localhost:8080/"
        },
        "id": "RcY0PxAZLMPI",
        "outputId": "3c9e277b-b37e-407f-c765-ab05db6f061f"
      },
      "outputs": [
        {
          "output_type": "execute_result",
          "data": {
            "text/plain": [
              "array([[1., 2., 4., 3.],\n",
              "       [5., 4., 2., 1.]])"
            ]
          },
          "metadata": {},
          "execution_count": 32
        }
      ],
      "source": [
        "np.hstack([a, b])"
      ]
    },
    {
      "cell_type": "code",
      "execution_count": 33,
      "metadata": {
        "scrolled": true,
        "colab": {
          "base_uri": "https://localhost:8080/"
        },
        "id": "wwxqDPcDLMPI",
        "outputId": "ca943818-c7c7-4b7f-f148-a87b74e11878"
      },
      "outputs": [
        {
          "output_type": "execute_result",
          "data": {
            "text/plain": [
              "array([[1., 2.],\n",
              "       [5., 4.],\n",
              "       [4., 3.],\n",
              "       [2., 1.]])"
            ]
          },
          "metadata": {},
          "execution_count": 33
        }
      ],
      "source": [
        "np.vstack([a, b])"
      ]
    },
    {
      "cell_type": "code",
      "execution_count": 34,
      "metadata": {
        "colab": {
          "base_uri": "https://localhost:8080/"
        },
        "id": "LFf68osjLMPI",
        "outputId": "bdb3a19e-19eb-4319-9595-6569ce179d11"
      },
      "outputs": [
        {
          "output_type": "execute_result",
          "data": {
            "text/plain": [
              "array([[1.5, 4. ],\n",
              "       [5.5, 6. ],\n",
              "       [4.5, 5. ],\n",
              "       [2.5, 3. ]])"
            ]
          },
          "metadata": {},
          "execution_count": 34
        }
      ],
      "source": [
        "np.vstack([a, b]) + v # broadcasting"
      ]
    },
    {
      "cell_type": "code",
      "execution_count": 35,
      "metadata": {
        "id": "ZX_AiESfLMPI"
      },
      "outputs": [],
      "source": [
        "#np.hstack([a, b]) + v # does not work"
      ]
    },
    {
      "cell_type": "code",
      "execution_count": 36,
      "metadata": {
        "id": "3Hhcba3pLMPI"
      },
      "outputs": [],
      "source": [
        "#np.hstack([a, b]) + v.T # transposing a 1-D array achieves nothing"
      ]
    },
    {
      "cell_type": "code",
      "execution_count": 37,
      "metadata": {
        "scrolled": true,
        "colab": {
          "base_uri": "https://localhost:8080/"
        },
        "id": "U9SyXKCJLMPJ",
        "outputId": "954117a1-7873-40cf-c1a6-b97991b4945d"
      },
      "outputs": [
        {
          "output_type": "execute_result",
          "data": {
            "text/plain": [
              "array([[1.5, 2.5, 4.5, 3.5],\n",
              "       [7. , 6. , 4. , 3. ]])"
            ]
          },
          "metadata": {},
          "execution_count": 37
        }
      ],
      "source": [
        "np.hstack([a, b]) + v.reshape((-1, 1)) # reshaping to convert v from a (2,) vector to a (2,1) matrix"
      ]
    },
    {
      "cell_type": "code",
      "execution_count": 38,
      "metadata": {
        "colab": {
          "base_uri": "https://localhost:8080/"
        },
        "id": "B5jvp61WLMPJ",
        "outputId": "8d535d65-3f1b-4d5c-d9c9-da0b0b4a7804"
      },
      "outputs": [
        {
          "output_type": "execute_result",
          "data": {
            "text/plain": [
              "array([[1.5, 2.5, 4.5, 3.5],\n",
              "       [7. , 6. , 4. , 3. ]])"
            ]
          },
          "metadata": {},
          "execution_count": 38
        }
      ],
      "source": [
        "np.hstack([a, b]) + v[:, np.newaxis] # equivalently, we can add an axis"
      ]
    },
    {
      "cell_type": "markdown",
      "metadata": {
        "id": "zBzxM7oSLMPJ"
      },
      "source": [
        "## Working on subset of the elements\n",
        "\n",
        "We have two ways in order to apply operations on subparts of arrays (besides slicing).\n",
        "\n",
        "#### Slicing reminders"
      ]
    },
    {
      "cell_type": "code",
      "execution_count": 39,
      "metadata": {
        "colab": {
          "base_uri": "https://localhost:8080/"
        },
        "id": "Bqix01F_LMPJ",
        "outputId": "f5d3288d-a6af-47f3-8869-d826724ca8e2"
      },
      "outputs": [
        {
          "output_type": "stream",
          "name": "stderr",
          "text": [
            "<ipython-input-39-cf394b66f5c0>:1: DeprecationWarning: This function is deprecated. Please call randint(0, 9 + 1) instead\n",
            "  r = np.random.random_integers(0, 9, size=(3, 4))\n"
          ]
        }
      ],
      "source": [
        "r = np.random.random_integers(0, 9, size=(3, 4))"
      ]
    },
    {
      "cell_type": "code",
      "execution_count": 40,
      "metadata": {
        "colab": {
          "base_uri": "https://localhost:8080/"
        },
        "id": "6A4dAAU0LMPJ",
        "outputId": "c40726fe-6899-4274-ad56-8a74cbbd274a"
      },
      "outputs": [
        {
          "output_type": "execute_result",
          "data": {
            "text/plain": [
              "array([[9, 4, 9, 1],\n",
              "       [1, 2, 6, 9],\n",
              "       [2, 4, 8, 4]])"
            ]
          },
          "metadata": {},
          "execution_count": 40
        }
      ],
      "source": [
        "r"
      ]
    },
    {
      "cell_type": "code",
      "execution_count": 41,
      "metadata": {
        "colab": {
          "base_uri": "https://localhost:8080/"
        },
        "id": "khkxPo52LMPJ",
        "outputId": "ce9c7811-cad0-4926-d1eb-cb24105de242"
      },
      "outputs": [
        {
          "output_type": "execute_result",
          "data": {
            "text/plain": [
              "(array([9, 4, 9, 1]), array([1, 2, 6, 9]))"
            ]
          },
          "metadata": {},
          "execution_count": 41
        }
      ],
      "source": [
        "r[0], r[1]"
      ]
    },
    {
      "cell_type": "code",
      "execution_count": 42,
      "metadata": {
        "colab": {
          "base_uri": "https://localhost:8080/"
        },
        "id": "RVWz_fOtLMPJ",
        "outputId": "a86a13d3-d5c9-418c-9d51-75384fd82201"
      },
      "outputs": [
        {
          "output_type": "execute_result",
          "data": {
            "text/plain": [
              "array([[9, 4, 9, 1],\n",
              "       [1, 2, 6, 9]])"
            ]
          },
          "metadata": {},
          "execution_count": 42
        }
      ],
      "source": [
        "r[0:2]"
      ]
    },
    {
      "cell_type": "code",
      "execution_count": 43,
      "metadata": {
        "colab": {
          "base_uri": "https://localhost:8080/"
        },
        "id": "twRgzWQNLMPK",
        "outputId": "fe18d53e-d4e2-4f55-e04a-a0186a2d386d"
      },
      "outputs": [
        {
          "output_type": "execute_result",
          "data": {
            "text/plain": [
              "np.int64(6)"
            ]
          },
          "metadata": {},
          "execution_count": 43
        }
      ],
      "source": [
        "r[1][2] # regular python"
      ]
    },
    {
      "cell_type": "code",
      "execution_count": 44,
      "metadata": {
        "colab": {
          "base_uri": "https://localhost:8080/"
        },
        "id": "lCh55zqHLMPK",
        "outputId": "8fa967e6-0924-4443-fc57-44014e28e630"
      },
      "outputs": [
        {
          "output_type": "execute_result",
          "data": {
            "text/plain": [
              "np.int64(6)"
            ]
          },
          "metadata": {},
          "execution_count": 44
        }
      ],
      "source": [
        "r[1, 2] # numpy"
      ]
    },
    {
      "cell_type": "code",
      "execution_count": 45,
      "metadata": {
        "colab": {
          "base_uri": "https://localhost:8080/"
        },
        "id": "iTV2FqLvLMPK",
        "outputId": "d0059055-073d-4bc8-8d34-a0ff6be81905"
      },
      "outputs": [
        {
          "output_type": "execute_result",
          "data": {
            "text/plain": [
              "array([[4, 9],\n",
              "       [2, 6],\n",
              "       [4, 8]])"
            ]
          },
          "metadata": {},
          "execution_count": 45
        }
      ],
      "source": [
        "r[:, 1:3]"
      ]
    },
    {
      "cell_type": "markdown",
      "metadata": {
        "id": "uP1l0Vt6LMPK"
      },
      "source": [
        "#### Binary masks\n",
        "\n",
        "Using logical operations on arrays give a binary mask. Using a binary mask as indexing acts as a filter and outputs just the very elements where the value is True. This gives a memoryview of the array that can get modified."
      ]
    },
    {
      "cell_type": "code",
      "execution_count": 46,
      "metadata": {
        "colab": {
          "base_uri": "https://localhost:8080/"
        },
        "id": "7X02xMFWLMPK",
        "outputId": "85946722-29ee-4747-c1c2-8f629244f876"
      },
      "outputs": [
        {
          "output_type": "execute_result",
          "data": {
            "text/plain": [
              "array([[ True, False,  True, False],\n",
              "       [False, False,  True,  True],\n",
              "       [False, False,  True, False]])"
            ]
          },
          "metadata": {},
          "execution_count": 46
        }
      ],
      "source": [
        "r > 5  # Binary element-wise result"
      ]
    },
    {
      "cell_type": "code",
      "execution_count": 47,
      "metadata": {
        "colab": {
          "base_uri": "https://localhost:8080/"
        },
        "id": "-PqwugoyLMPK",
        "outputId": "83a3bb1e-00c8-434b-83b8-3251c68e8202"
      },
      "outputs": [
        {
          "output_type": "execute_result",
          "data": {
            "text/plain": [
              "array([9, 9, 6, 9, 8])"
            ]
          },
          "metadata": {},
          "execution_count": 47
        }
      ],
      "source": [
        "r[r > 5]  # Use the binary mask as filter"
      ]
    },
    {
      "cell_type": "code",
      "execution_count": 48,
      "metadata": {
        "id": "fePDhuxdLMPK"
      },
      "outputs": [],
      "source": [
        "r[r > 5] = 999  # Modify the corresponding values with a constant"
      ]
    },
    {
      "cell_type": "code",
      "execution_count": 49,
      "metadata": {
        "colab": {
          "base_uri": "https://localhost:8080/"
        },
        "id": "fm9Uy2eELMPL",
        "outputId": "97d755d0-e04c-4786-e296-12601979c4f2"
      },
      "outputs": [
        {
          "output_type": "execute_result",
          "data": {
            "text/plain": [
              "array([[999,   4, 999,   1],\n",
              "       [  1,   2, 999, 999],\n",
              "       [  2,   4, 999,   4]])"
            ]
          },
          "metadata": {},
          "execution_count": 49
        }
      ],
      "source": [
        "r"
      ]
    },
    {
      "cell_type": "markdown",
      "metadata": {
        "id": "r62xUtMvLMPL"
      },
      "source": [
        "#### Working with indices\n",
        "\n",
        "The second way to work on subpart of arrays are through indices. Usually you'd use one array per dimension with matching indices.\n",
        "\n",
        "**WARNING** : indices are usually slower than binary masks because it is harder to be parallelized by the underlying BLAS library."
      ]
    },
    {
      "cell_type": "code",
      "execution_count": 50,
      "metadata": {
        "colab": {
          "base_uri": "https://localhost:8080/"
        },
        "id": "83bEidU3LMPL",
        "outputId": "3e3179a2-1030-483f-aba2-972176e21223"
      },
      "outputs": [
        {
          "output_type": "execute_result",
          "data": {
            "text/plain": [
              "(array([0, 0, 1, 1, 2]), array([0, 2, 2, 3, 2]))"
            ]
          },
          "metadata": {},
          "execution_count": 50
        }
      ],
      "source": [
        "# Get the indices where the condition is true, gives a tuple whose length\n",
        "# is the number of dimensions of the input array\n",
        "np.where(r == 999)"
      ]
    },
    {
      "cell_type": "code",
      "execution_count": 51,
      "metadata": {
        "colab": {
          "base_uri": "https://localhost:8080/"
        },
        "id": "AWf_qfpNLMPL",
        "outputId": "3b0f3b7f-f3d8-4b1b-b10b-731f0f935642"
      },
      "outputs": [
        {
          "output_type": "stream",
          "name": "stdout",
          "text": [
            "(array([0, 1, 2, 3, 4]),)\n"
          ]
        },
        {
          "output_type": "execute_result",
          "data": {
            "text/plain": [
              "array([0, 1, 2, 3, 4])"
            ]
          },
          "metadata": {},
          "execution_count": 51
        }
      ],
      "source": [
        "print(np.where(np.arange(10) < 5))  # Is a 1-tuple\n",
        "np.where(np.arange(10) < 5)[0]  # Accessing the first element gives the indices array"
      ]
    },
    {
      "cell_type": "code",
      "execution_count": 52,
      "metadata": {
        "colab": {
          "base_uri": "https://localhost:8080/"
        },
        "id": "FDETsn6gLMPL",
        "outputId": "3229fbf2-7247-4171-8dbc-d58d895c74ed"
      },
      "outputs": [
        {
          "output_type": "execute_result",
          "data": {
            "text/plain": [
              "array([[ -10, 1004,  -10, 1001],\n",
              "       [1001, 1002,  -10,  -10],\n",
              "       [1002, 1004,  -10, 1004]])"
            ]
          },
          "metadata": {},
          "execution_count": 52
        }
      ],
      "source": [
        "np.where(r == 999, -10, r+1000)  # Ternary condition, if True take element from first array, otherwise from second"
      ]
    },
    {
      "cell_type": "code",
      "execution_count": 53,
      "metadata": {
        "colab": {
          "base_uri": "https://localhost:8080/"
        },
        "id": "T9qK4fLSLMPL",
        "outputId": "6902b248-d212-415e-d790-30d873595548"
      },
      "outputs": [
        {
          "output_type": "execute_result",
          "data": {
            "text/plain": [
              "array([999, 999])"
            ]
          },
          "metadata": {},
          "execution_count": 53
        }
      ],
      "source": [
        "r[(np.array([1,2]), np.array([2,2]))]  # Gets the view corresponding to the indices. NB : iterable of arrays as indexing"
      ]
    },
    {
      "cell_type": "markdown",
      "metadata": {
        "id": "rxrNzy-BLMPL"
      },
      "source": [
        "# Working with arrays, examples\n",
        "\n",
        "Thanks to all these tools, you should be able to avoid writing almost any for-loops which are extremely costly in Python (even more than in Matlab, because good JIT engines are yet to come). In case you **really** need for-loops for array computation (usually not needed but it happens) have a look at http://numba.pydata.org/ (_For advanced users_)\n",
        "\n",
        "#### Counting the number of positive elements that satisfy a condition"
      ]
    },
    {
      "cell_type": "code",
      "execution_count": 54,
      "metadata": {
        "id": "pHIPW_5ILMPL"
      },
      "outputs": [],
      "source": [
        "numbers = np.random.randn(1000, 1000)"
      ]
    },
    {
      "cell_type": "code",
      "execution_count": 55,
      "metadata": {
        "colab": {
          "base_uri": "https://localhost:8080/"
        },
        "id": "Cs2cER37LMPM",
        "outputId": "b4c9bd3d-f36b-4f2f-c8eb-1447d1b78855"
      },
      "outputs": [
        {
          "output_type": "stream",
          "name": "stdout",
          "text": [
            "201 ms ± 132 ms per loop (mean ± std. dev. of 7 runs, 10 loops each)\n"
          ]
        }
      ],
      "source": [
        "%%timeit  # Naive version\n",
        "my_sum = 0\n",
        "for n in numbers.ravel():\n",
        "    if n>0:\n",
        "        my_sum += 1"
      ]
    },
    {
      "cell_type": "code",
      "execution_count": 56,
      "metadata": {
        "colab": {
          "base_uri": "https://localhost:8080/"
        },
        "id": "ui386chvLMPM",
        "outputId": "8c7685f3-d567-4ade-e683-10b13c6ca288"
      },
      "outputs": [
        {
          "output_type": "stream",
          "name": "stdout",
          "text": [
            "1.3 ms ± 96 µs per loop (mean ± std. dev. of 7 runs, 1000 loops each)\n"
          ]
        }
      ],
      "source": [
        "%timeit np.sum(numbers > 0)"
      ]
    },
    {
      "cell_type": "markdown",
      "metadata": {
        "id": "rYweqkftLMPM"
      },
      "source": [
        "#### Compute polynomial for a lot of values"
      ]
    },
    {
      "cell_type": "code",
      "execution_count": 57,
      "metadata": {
        "tags": [],
        "colab": {
          "base_uri": "https://localhost:8080/"
        },
        "id": "lgY7m-G3LMPM",
        "outputId": "3f083f97-e633-4e53-f9a5-ac642af4dae1"
      },
      "outputs": [
        {
          "output_type": "execute_result",
          "data": {
            "text/plain": [
              "array([-1.04113834,  0.17566361,  0.65256564, ...,  0.08303639,\n",
              "       -0.67697495,  0.62371977])"
            ]
          },
          "metadata": {},
          "execution_count": 57
        }
      ],
      "source": [
        "X = np.random.randn(10000)\n",
        "X"
      ]
    },
    {
      "cell_type": "code",
      "execution_count": 58,
      "metadata": {
        "colab": {
          "base_uri": "https://localhost:8080/"
        },
        "id": "EukoxPIsLMPM",
        "outputId": "f3a4bc5e-a91d-4ded-b53b-2c8b4e8c6070"
      },
      "outputs": [
        {
          "output_type": "stream",
          "name": "stdout",
          "text": [
            "9.44 ms ± 2.66 ms per loop (mean ± std. dev. of 7 runs, 100 loops each)\n"
          ]
        }
      ],
      "source": [
        "%%timeit  # Naive version\n",
        "my_result = np.zeros(len(X))\n",
        "for i, x in enumerate(X.ravel()):\n",
        "    my_result[i] = 1 + x + x**2 + x**3 + x**4"
      ]
    },
    {
      "cell_type": "code",
      "execution_count": 59,
      "metadata": {
        "colab": {
          "base_uri": "https://localhost:8080/"
        },
        "id": "liIayl4LLMPM",
        "outputId": "47a62b23-2ff2-477b-a0b2-0a379ce97310"
      },
      "outputs": [
        {
          "output_type": "stream",
          "name": "stdout",
          "text": [
            "661 µs ± 3.15 µs per loop (mean ± std. dev. of 7 runs, 1000 loops each)\n"
          ]
        }
      ],
      "source": [
        "%timeit 1 + X + X**2 + X**3 + X**4"
      ]
    },
    {
      "cell_type": "markdown",
      "metadata": {
        "id": "n-7Z2LkJLMPM"
      },
      "source": [
        "## SciPy\n",
        "\n",
        "SciPy is a collection of libraries more specialized than Numpy. It is the equivalent of toolboxes in Matlab.\n",
        "\n",
        "Have a look at their collection: http://docs.scipy.org/doc/scipy/reference/\n",
        "\n",
        "Many traditionnal functions are coded there."
      ]
    },
    {
      "cell_type": "code",
      "execution_count": 60,
      "metadata": {
        "id": "4gs3nj57LMPN"
      },
      "outputs": [],
      "source": [
        "X = np.random.randn(1000)"
      ]
    },
    {
      "cell_type": "code",
      "execution_count": 61,
      "metadata": {
        "colab": {
          "base_uri": "https://localhost:8080/",
          "height": 447
        },
        "id": "a7g6q97CLMPN",
        "outputId": "b26e1fa1-7c24-4444-de0a-b06347661613"
      },
      "outputs": [
        {
          "output_type": "execute_result",
          "data": {
            "text/plain": [
              "[<matplotlib.lines.Line2D at 0x7e74115ac890>]"
            ]
          },
          "metadata": {},
          "execution_count": 61
        },
        {
          "output_type": "display_data",
          "data": {
            "text/plain": [
              "<Figure size 640x480 with 1 Axes>"
            ],
            "image/png": "[encoded data removed]"
          },
          "metadata": {}
        }
      ],
      "source": [
        "from scipy.fftpack import fft\n",
        "plt.plot(fft(X).real)"
      ]
    },
    {
      "cell_type": "code",
      "execution_count": 61,
      "metadata": {
        "collapsed": true,
        "jupyter": {
          "outputs_hidden": true
        },
        "id": "MTvYONPELMPN"
      },
      "outputs": [],
      "source": []
    }
  ],
  "metadata": {
    "anaconda-cloud": {},
    "kernelspec": {
      "display_name": "Python 3 (ipykernel)",
      "language": "python",
      "name": "python3"
    },
    "language_info": {
      "codemirror_mode": {
        "name": "ipython",
        "version": 3
      },
      "file_extension": ".py",
      "mimetype": "text/x-python",
      "name": "python",
      "nbconvert_exporter": "python",
      "pygments_lexer": "ipython3",
      "version": "3.8.10"
    },
    "colab": {
      "provenance": []
    }
  },
  "nbformat": 4,
  "nbformat_minor": 0
}