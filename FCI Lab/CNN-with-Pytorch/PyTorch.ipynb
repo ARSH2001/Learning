{
 "cells": [
  {
   "cell_type": "code",
   "execution_count": 1,
   "metadata": {
    "colab": {
     "base_uri": "https://localhost:8080/"
    },
    "executionInfo": {
     "elapsed": 6593,
     "status": "ok",
     "timestamp": 1670397880561,
     "user": {
      "displayName": "Alireza Salehi Hosseinabadi",
      "userId": "11466110803611413910"
     },
     "user_tz": -210
    },
    "id": "QQLlHQ6WOG3J",
    "outputId": "4cefb110-cc71-4213-cc79-b6ce30e739fe"
   },
   "outputs": [
    {
     "name": "stdout",
     "output_type": "stream",
     "text": [
      "Mounted at /content/drive\n",
      "/content/drive/My Drive/CI-Lab08/IUT/datasets\n",
      "/content/drive/My Drive/CI-Lab08\n"
     ]
    }
   ],
   "source": [
    "# This mounts your Google Drive to the Colab VM.\n",
    "from google.colab import drive\n",
    "drive.mount('/content/drive')\n",
    "\n",
    "# TODO: Enter the foldername in your Drive where you have saved the unzipped\n",
    "# assignment folder, e.g. 'IUT/assignments/assignment1/'\n",
    "FOLDERNAME = \"CI-Lab08/\"\n",
    "assert FOLDERNAME is not None, \"[!] Enter the foldername.\"\n",
    "\n",
    "# Now that we've mounted your Drive, this ensures that\n",
    "# the Python interpreter of the Colab VM can load\n",
    "# python files from within it.\n",
    "import sys\n",
    "sys.path.append('/content/drive/My Drive/{}'.format(FOLDERNAME))\n",
    "\n",
    "# This downloads the CIFAR-10 dataset to your Drive\n",
    "# if it doesn't already exist.\n",
    "%cd /content/drive/My\\ Drive/$FOLDERNAME/IUT/datasets/\n",
    "!bash get_datasets.sh\n",
    "%cd /content/drive/My\\ Drive/$FOLDERNAME"
   ]
  },
  {
   "cell_type": "markdown",
   "metadata": {
    "id": "uYWRNzrMOG3Q",
    "tags": [
     "pdf-ignore"
    ]
   },
   "source": [
    "# GPU\n"
   ]
  },
  {
   "cell_type": "code",
   "execution_count": 2,
   "metadata": {
    "colab": {
     "base_uri": "https://localhost:8080/"
    },
    "executionInfo": {
     "elapsed": 2307,
     "status": "ok",
     "timestamp": 1670397882865,
     "user": {
      "displayName": "Alireza Salehi Hosseinabadi",
      "userId": "11466110803611413910"
     },
     "user_tz": -210
    },
    "id": "As2xUNxkOG3S",
    "outputId": "126a637f-916e-4015-9ced-973ced9b1c56",
    "tags": [
     "pdf-ignore"
    ]
   },
   "outputs": [
    {
     "name": "stdout",
     "output_type": "stream",
     "text": [
      "using device: cuda\n"
     ]
    }
   ],
   "source": [
    "import torch\n",
    "import torch.nn as nn\n",
    "import torch.optim as optim\n",
    "from torch.utils.data import DataLoader\n",
    "from torch.utils.data import sampler\n",
    "\n",
    "import torchvision.datasets as dset\n",
    "import torchvision.transforms as T\n",
    "\n",
    "import numpy as np\n",
    "\n",
    "USE_GPU = True\n",
    "dtype = torch.float32 # We will be using float throughout this tutorial.\n",
    "\n",
    "if USE_GPU and torch.cuda.is_available():\n",
    "    device = torch.device('cuda')\n",
    "else:\n",
    "    device = torch.device('cpu')\n",
    "\n",
    "# Constant to control how frequently we print train loss.\n",
    "print_every = 100\n",
    "print('using device:', device)"
   ]
  },
  {
   "cell_type": "markdown",
   "metadata": {
    "id": "0dGvhy9XOG3T"
   },
   "source": [
    "# 1. Preparation\n"
   ]
  },
  {
   "cell_type": "code",
   "execution_count": 3,
   "metadata": {
    "colab": {
     "base_uri": "https://localhost:8080/"
    },
    "executionInfo": {
     "elapsed": 5324,
     "status": "ok",
     "timestamp": 1670397888186,
     "user": {
      "displayName": "Alireza Salehi Hosseinabadi",
      "userId": "11466110803611413910"
     },
     "user_tz": -210
    },
    "id": "4_ktLvdtOG3U",
    "outputId": "1f58905b-4c58-4525-8791-e1465b54b132",
    "tags": [
     "pdf-ignore"
    ]
   },
   "outputs": [
    {
     "name": "stdout",
     "output_type": "stream",
     "text": [
      "Files already downloaded and verified\n",
      "Files already downloaded and verified\n",
      "Files already downloaded and verified\n"
     ]
    }
   ],
   "source": [
    "NUM_TRAIN = 49000\n",
    "\n",
    "# The torchvision.transforms package provides tools for preprocessing data\n",
    "# and for performing data augmentation; here we set up a transform to\n",
    "# preprocess the data by subtracting the mean RGB value and dividing by the\n",
    "# standard deviation of each RGB value; we've hardcoded the mean and std.\n",
    "transform = T.Compose([\n",
    "                T.ToTensor(),\n",
    "                T.Normalize((0.4914, 0.4822, 0.4465), (0.2023, 0.1994, 0.2010))\n",
    "            ])\n",
    "\n",
    "# We set up a Dataset object for each split (train / val / test); Datasets load\n",
    "# training examples one at a time, so we wrap each Dataset in a DataLoader which\n",
    "# iterates through the Dataset and forms minibatches. We divide the CIFAR-10\n",
    "# training set into train and val sets by passing a Sampler object to the\n",
    "# DataLoader telling how it should sample from the underlying Dataset.\n",
    "cifar10_train = dset.CIFAR10('./IUT/datasets', train=True, download=True,\n",
    "                             transform=transform)\n",
    "loader_train = DataLoader(cifar10_train, batch_size=64, \n",
    "                          sampler=sampler.SubsetRandomSampler(range(NUM_TRAIN)))\n",
    "\n",
    "cifar10_val = dset.CIFAR10('./IUT/datasets', train=True, download=True,\n",
    "                           transform=transform)\n",
    "loader_val = DataLoader(cifar10_val, batch_size=64, \n",
    "                        sampler=sampler.SubsetRandomSampler(range(NUM_TRAIN, 50000)))\n",
    "\n",
    "cifar10_test = dset.CIFAR10('./IUT/datasets', train=False, download=True, \n",
    "                            transform=transform)\n",
    "loader_test = DataLoader(cifar10_test, batch_size=64)"
   ]
  },
  {
   "cell_type": "markdown",
   "metadata": {
    "id": "o58sSOwZOG3V"
   },
   "source": [
    "# 2. Barebones PyTorch\n",
    "## 2.1 Flatten function"
   ]
  },
  {
   "cell_type": "code",
   "execution_count": 4,
   "metadata": {
    "colab": {
     "base_uri": "https://localhost:8080/"
    },
    "executionInfo": {
     "elapsed": 12,
     "status": "ok",
     "timestamp": 1670397888186,
     "user": {
      "displayName": "Alireza Salehi Hosseinabadi",
      "userId": "11466110803611413910"
     },
     "user_tz": -210
    },
    "id": "u2-_FtQhOG3W",
    "outputId": "da533f6b-87c5-4323-af5f-06908b4ccd7e",
    "tags": [
     "pdf-ignore-input"
    ]
   },
   "outputs": [
    {
     "name": "stdout",
     "output_type": "stream",
     "text": [
      "Before flattening:  tensor([[[[ 0,  1],\n",
      "          [ 2,  3],\n",
      "          [ 4,  5]]],\n",
      "\n",
      "\n",
      "        [[[ 6,  7],\n",
      "          [ 8,  9],\n",
      "          [10, 11]]]])\n",
      "After flattening:  tensor([[ 0,  1,  2,  3,  4,  5],\n",
      "        [ 6,  7,  8,  9, 10, 11]])\n"
     ]
    }
   ],
   "source": [
    "def flatten(x):\n",
    "    N = x.shape[0] # read in N, C, H, W\n",
    "    return x.view(N, -1)  # \"flatten\" the C * H * W values into a single vector per image\n",
    "\n",
    "def test_flatten():\n",
    "    x = torch.arange(12).view(2, 1, 3, 2)\n",
    "    print('Before flattening: ', x)\n",
    "    print('After flattening: ', flatten(x))\n",
    "\n",
    "test_flatten()"
   ]
  },
  {
   "cell_type": "markdown",
   "metadata": {
    "id": "fM7Ux9slOG3W",
    "tags": [
     "pdf-ignore"
    ]
   },
   "source": [
    "### 2.2 Barebones PyTorch: Two-Layer Network\n"
   ]
  },
  {
   "cell_type": "code",
   "execution_count": 5,
   "metadata": {
    "colab": {
     "base_uri": "https://localhost:8080/"
    },
    "executionInfo": {
     "elapsed": 11,
     "status": "ok",
     "timestamp": 1670397888187,
     "user": {
      "displayName": "Alireza Salehi Hosseinabadi",
      "userId": "11466110803611413910"
     },
     "user_tz": -210
    },
    "id": "JCFrMfiiOG3X",
    "outputId": "c9ab0c1f-c09b-494b-b44a-fe6c2a79601e",
    "tags": [
     "pdf-ignore-input"
    ]
   },
   "outputs": [
    {
     "name": "stdout",
     "output_type": "stream",
     "text": [
      "torch.Size([64, 10])\n"
     ]
    }
   ],
   "source": [
    "import torch.nn.functional as F  # useful stateless functions\n",
    "\n",
    "def two_layer_fc(x, params):\n",
    "    \"\"\"\n",
    "    A fully-connected neural networks; the architecture is:\n",
    "    NN is fully connected -> ReLU -> fully connected layer.\n",
    "    Note that this function only defines the forward pass; \n",
    "    PyTorch will take care of the backward pass for us.\n",
    "    \n",
    "    The input to the network will be a minibatch of data, of shape\n",
    "    (N, d1, ..., dM) where d1 * ... * dM = D. The hidden layer will have H units,\n",
    "    and the output layer will produce scores for C classes.\n",
    "    \n",
    "    Inputs:\n",
    "    - x: A PyTorch Tensor of shape (N, d1, ..., dM) giving a minibatch of\n",
    "      input data.\n",
    "    - params: A list [w1, w2] of PyTorch Tensors giving weights for the network;\n",
    "      w1 has shape (D, H) and w2 has shape (H, C).\n",
    "    \n",
    "    Returns:\n",
    "    - scores: A PyTorch Tensor of shape (N, C) giving classification scores for\n",
    "      the input data x.\n",
    "    \"\"\"\n",
    "    # first we flatten the image\n",
    "    x = flatten(x)  # shape: [batch_size, C x H x W]\n",
    "    \n",
    "    w1, w2 = params\n",
    "    \n",
    "    # Forward pass: compute predicted y using operations on Tensors. Since w1 and\n",
    "    # w2 have requires_grad=True, operations involving these Tensors will cause\n",
    "    # PyTorch to build a computational graph, allowing automatic computation of\n",
    "    # gradients. Since we are no longer implementing the backward pass by hand we\n",
    "    # don't need to keep references to intermediate values.\n",
    "    # you can also use `.clamp(min=0)`, equivalent to F.relu()\n",
    "    x = F.relu(x.mm(w1))\n",
    "    x = x.mm(w2)\n",
    "    return x\n",
    "    \n",
    "\n",
    "def two_layer_fc_test():\n",
    "    hidden_layer_size = 42\n",
    "    x = torch.zeros((64, 50), dtype=dtype)  # minibatch size 64, feature dimension 50\n",
    "    w1 = torch.zeros((50, hidden_layer_size), dtype=dtype)\n",
    "    w2 = torch.zeros((hidden_layer_size, 10), dtype=dtype)\n",
    "    scores = two_layer_fc(x, [w1, w2])\n",
    "    print(scores.size())  # you should see [64, 10]\n",
    "\n",
    "two_layer_fc_test()"
   ]
  },
  {
   "cell_type": "markdown",
   "metadata": {
    "id": "UKp4vy84OG3Y"
   },
   "source": [
    "### 2.3 Barebones PyTorch: Three-Layer ConvNet\n"
   ]
  },
  {
   "cell_type": "code",
   "execution_count": 6,
   "metadata": {
    "executionInfo": {
     "elapsed": 8,
     "status": "ok",
     "timestamp": 1670397888187,
     "user": {
      "displayName": "Alireza Salehi Hosseinabadi",
      "userId": "11466110803611413910"
     },
     "user_tz": -210
    },
    "id": "-VMzjwaZOG3Z"
   },
   "outputs": [],
   "source": [
    "def three_layer_convnet(x, params):\n",
    "    \"\"\"\n",
    "    Performs the forward pass of a three-layer convolutional network with the\n",
    "    architecture defined above.\n",
    "\n",
    "    Inputs:\n",
    "    - x: A PyTorch Tensor of shape (N, 3, H, W) giving a minibatch of images\n",
    "    - params: A list of PyTorch Tensors giving the weights and biases for the\n",
    "      network; should contain the following:\n",
    "      - conv_w1: PyTorch Tensor of shape (channel_1, 3, KH1, KW1) giving weights\n",
    "        for the first convolutional layer\n",
    "      - conv_b1: PyTorch Tensor of shape (channel_1,) giving biases for the first\n",
    "        convolutional layer\n",
    "      - conv_w2: PyTorch Tensor of shape (channel_2, channel_1, KH2, KW2) giving\n",
    "        weights for the second convolutional layer\n",
    "      - conv_b2: PyTorch Tensor of shape (channel_2,) giving biases for the second\n",
    "        convolutional layer\n",
    "      - fc_w: PyTorch Tensor giving weights for the fully-connected layer. Can you\n",
    "        figure out what the shape should be?\n",
    "      - fc_b: PyTorch Tensor giving biases for the fully-connected layer. Can you\n",
    "        figure out what the shape should be?\n",
    "    \n",
    "    Returns:\n",
    "    - scores: PyTorch Tensor of shape (N, C) giving classification scores for x\n",
    "    \"\"\"\n",
    "    conv_w1, conv_b1, conv_w2, conv_b2, fc_w, fc_b = params\n",
    "    scores = None\n",
    "    ################################################################################\n",
    "    # TODO: Implement the forward pass for the three-layer ConvNet.                #\n",
    "    ################################################################################\n",
    "    # *****START OF YOUR CODE (DO NOT DELETE/MODIFY THIS LINE)*****\n",
    "    l1_output = F.relu ( F.conv2d(x, conv_w1, conv_b1, padding = 2) )\n",
    "    l2_output = F.relu ( F.conv2d(l1_output, conv_w2, conv_b2, padding = 1) )\n",
    "    scores = flatten(l2_output).mm(fc_w) + fc_b\n",
    "    # *****END OF YOUR CODE (DO NOT DELETE/MODIFY THIS LINE)*****\n",
    "    ################################################################################\n",
    "    #                                 END OF YOUR CODE                             #\n",
    "    ################################################################################\n",
    "    return scores"
   ]
  },
  {
   "cell_type": "code",
   "execution_count": 7,
   "metadata": {
    "colab": {
     "base_uri": "https://localhost:8080/"
    },
    "executionInfo": {
     "elapsed": 7,
     "status": "ok",
     "timestamp": 1670397888187,
     "user": {
      "displayName": "Alireza Salehi Hosseinabadi",
      "userId": "11466110803611413910"
     },
     "user_tz": -210
    },
    "id": "barebones_output_shape",
    "outputId": "bcf861cf-8ed4-40e2-bbb2-4df2adf13992",
    "tags": [
     "pdf-ignore-input"
    ]
   },
   "outputs": [
    {
     "name": "stdout",
     "output_type": "stream",
     "text": [
      "torch.Size([64, 10])\n"
     ]
    }
   ],
   "source": [
    "def three_layer_convnet_test():\n",
    "    x = torch.zeros((64, 3, 32, 32), dtype=dtype)  # minibatch size 64, image size [3, 32, 32]\n",
    "\n",
    "    conv_w1 = torch.zeros((6, 3, 5, 5), dtype=dtype)  # [out_channel, in_channel, kernel_H, kernel_W]\n",
    "    conv_b1 = torch.zeros((6,))  # out_channel\n",
    "    conv_w2 = torch.zeros((9, 6, 3, 3), dtype=dtype)  # [out_channel, in_channel, kernel_H, kernel_W]\n",
    "    conv_b2 = torch.zeros((9,))  # out_channel\n",
    "\n",
    "    # you must calculate the shape of the tensor after two conv layers, before the fully-connected layer\n",
    "    fc_w = torch.zeros((9 * 32 * 32, 10))\n",
    "    fc_b = torch.zeros(10)\n",
    "\n",
    "    scores = three_layer_convnet(x, [conv_w1, conv_b1, conv_w2, conv_b2, fc_w, fc_b])\n",
    "    print(scores.size())  # you should see [64, 10]\n",
    "three_layer_convnet_test()"
   ]
  },
  {
   "cell_type": "markdown",
   "metadata": {
    "id": "ypsexhftOG3a"
   },
   "source": [
    "### 2.4 Barebones PyTorch: Initialization\n"
   ]
  },
  {
   "cell_type": "code",
   "execution_count": 8,
   "metadata": {
    "colab": {
     "base_uri": "https://localhost:8080/"
    },
    "executionInfo": {
     "elapsed": 2041,
     "status": "ok",
     "timestamp": 1670397890223,
     "user": {
      "displayName": "Alireza Salehi Hosseinabadi",
      "userId": "11466110803611413910"
     },
     "user_tz": -210
    },
    "id": "9oZTwl3iOG3a",
    "outputId": "5c72d184-f15d-4090-8aca-43f1bd46f63b",
    "tags": [
     "pdf-ignore-input"
    ]
   },
   "outputs": [
    {
     "data": {
      "text/plain": [
       "tensor([[ 0.5652,  0.2398, -0.4336,  0.1455, -0.2270],\n",
       "        [ 0.6269,  0.5821,  0.9651, -0.2946, -1.2004],\n",
       "        [ 0.4797,  0.9102,  1.0389,  0.2101,  0.2610]], device='cuda:0',\n",
       "       requires_grad=True)"
      ]
     },
     "execution_count": 8,
     "metadata": {},
     "output_type": "execute_result"
    }
   ],
   "source": [
    "def random_weight(shape):\n",
    "    \"\"\"\n",
    "    Create random Tensors for weights; setting requires_grad=True means that we\n",
    "    want to compute gradients for these Tensors during the backward pass.\n",
    "    We use Kaiming normalization: sqrt(2 / fan_in)\n",
    "    \"\"\"\n",
    "    if len(shape) == 2:  # FC weight\n",
    "        fan_in = shape[0]\n",
    "    else:\n",
    "        fan_in = np.prod(shape[1:]) # conv weight [out_channel, in_channel, kH, kW]\n",
    "    # randn is standard normal distribution generator. \n",
    "    w = torch.randn(shape, device=device, dtype=dtype) * np.sqrt(2. / fan_in)\n",
    "    w.requires_grad = True\n",
    "    return w\n",
    "\n",
    "def zero_weight(shape):\n",
    "    return torch.zeros(shape, device=device, dtype=dtype, requires_grad=True)\n",
    "\n",
    "# create a weight of shape [3 x 5]\n",
    "# you should see the type `torch.cuda.FloatTensor` if you use GPU. \n",
    "# Otherwise it should be `torch.FloatTensor`\n",
    "random_weight((3, 5))"
   ]
  },
  {
   "cell_type": "markdown",
   "metadata": {
    "id": "3n9g7dwQOG3b"
   },
   "source": [
    "### 2.5 Barebones PyTorch: Check Accuracy\n"
   ]
  },
  {
   "cell_type": "code",
   "execution_count": 9,
   "metadata": {
    "executionInfo": {
     "elapsed": 7,
     "status": "ok",
     "timestamp": 1670397890224,
     "user": {
      "displayName": "Alireza Salehi Hosseinabadi",
      "userId": "11466110803611413910"
     },
     "user_tz": -210
    },
    "id": "ososSRokOG3b",
    "tags": [
     "pdf-ignore-input"
    ]
   },
   "outputs": [],
   "source": [
    "def check_accuracy_part2(loader, model_fn, params):\n",
    "    \"\"\"\n",
    "    Check the accuracy of a classification model.\n",
    "    \n",
    "    Inputs:\n",
    "    - loader: A DataLoader for the data split we want to check\n",
    "    - model_fn: A function that performs the forward pass of the model,\n",
    "      with the signature scores = model_fn(x, params)\n",
    "    - params: List of PyTorch Tensors giving parameters of the model\n",
    "    \n",
    "    Returns: Nothing, but prints the accuracy of the model\n",
    "    \"\"\"\n",
    "    split = 'val' if loader.dataset.train else 'test'\n",
    "    print('Checking accuracy on the %s set' % split)\n",
    "    num_correct, num_samples = 0, 0\n",
    "    with torch.no_grad():\n",
    "        for x, y in loader:\n",
    "            x = x.to(device=device, dtype=dtype)  # move to device, e.g. GPU\n",
    "            y = y.to(device=device, dtype=torch.int64)\n",
    "            scores = model_fn(x, params)\n",
    "            _, preds = scores.max(1)\n",
    "            num_correct += (preds == y).sum()\n",
    "            num_samples += preds.size(0)\n",
    "        acc = float(num_correct) / num_samples\n",
    "        print('Got %d / %d correct (%.2f%%)' % (num_correct, num_samples, 100 * acc))"
   ]
  },
  {
   "cell_type": "markdown",
   "metadata": {
    "id": "_Dotcc4lOG3b"
   },
   "source": [
    "### 2.6 BareBones PyTorch: Training Loop\n"
   ]
  },
  {
   "cell_type": "code",
   "execution_count": 10,
   "metadata": {
    "executionInfo": {
     "elapsed": 4,
     "status": "ok",
     "timestamp": 1670397890224,
     "user": {
      "displayName": "Alireza Salehi Hosseinabadi",
      "userId": "11466110803611413910"
     },
     "user_tz": -210
    },
    "id": "b2cdXzG4OG3c",
    "tags": [
     "pdf-ignore-input"
    ]
   },
   "outputs": [],
   "source": [
    "def train_part2(model_fn, params, learning_rate):\n",
    "    \"\"\"\n",
    "    Train a model on CIFAR-10.\n",
    "    \n",
    "    Inputs:\n",
    "    - model_fn: A Python function that performs the forward pass of the model.\n",
    "      It should have the signature scores = model_fn(x, params) where x is a\n",
    "      PyTorch Tensor of image data, params is a list of PyTorch Tensors giving\n",
    "      model weights, and scores is a PyTorch Tensor of shape (N, C) giving\n",
    "      scores for the elements in x.\n",
    "    - params: List of PyTorch Tensors giving weights for the model\n",
    "    - learning_rate: Python scalar giving the learning rate to use for SGD\n",
    "    \n",
    "    Returns: Nothing\n",
    "    \"\"\"\n",
    "    for t, (x, y) in enumerate(loader_train):\n",
    "        # Move the data to the proper device (GPU or CPU)\n",
    "        x = x.to(device=device, dtype=dtype)\n",
    "        y = y.to(device=device, dtype=torch.long)\n",
    "\n",
    "        # Forward pass: compute scores and loss\n",
    "        scores = model_fn(x, params)\n",
    "        loss = F.cross_entropy(scores, y)\n",
    "\n",
    "        # Backward pass: PyTorch figures out which Tensors in the computational\n",
    "        # graph has requires_grad=True and uses backpropagation to compute the\n",
    "        # gradient of the loss with respect to these Tensors, and stores the\n",
    "        # gradients in the .grad attribute of each Tensor.\n",
    "        loss.backward()\n",
    "\n",
    "        # Update parameters. We don't want to backpropagate through the\n",
    "        # parameter updates, so we scope the updates under a torch.no_grad()\n",
    "        # context manager to prevent a computational graph from being built.\n",
    "        with torch.no_grad():\n",
    "            for w in params:\n",
    "                w -= learning_rate * w.grad\n",
    "\n",
    "                # Manually zero the gradients after running the backward pass\n",
    "                w.grad.zero_()\n",
    "\n",
    "        if t % print_every == 0:\n",
    "            print('Iteration %d, loss = %.4f' % (t, loss.item()))\n",
    "            check_accuracy_part2(loader_val, model_fn, params)\n",
    "            print()"
   ]
  },
  {
   "cell_type": "markdown",
   "metadata": {
    "id": "loDqEDHOOG3c"
   },
   "source": [
    "### 2.7 BareBones PyTorch: Train a Two-Layer Network\n"
   ]
  },
  {
   "cell_type": "code",
   "execution_count": 11,
   "metadata": {
    "colab": {
     "base_uri": "https://localhost:8080/"
    },
    "executionInfo": {
     "elapsed": 13160,
     "status": "ok",
     "timestamp": 1670397903380,
     "user": {
      "displayName": "Alireza Salehi Hosseinabadi",
      "userId": "11466110803611413910"
     },
     "user_tz": -210
    },
    "id": "b8zXfeEgOG3d",
    "outputId": "f67fa489-4cb5-407e-a8b7-b9d110d43231"
   },
   "outputs": [
    {
     "name": "stdout",
     "output_type": "stream",
     "text": [
      "Iteration 0, loss = 3.4498\n",
      "Checking accuracy on the val set\n",
      "Got 126 / 1000 correct (12.60%)\n",
      "\n",
      "Iteration 100, loss = 2.0883\n",
      "Checking accuracy on the val set\n",
      "Got 337 / 1000 correct (33.70%)\n",
      "\n",
      "Iteration 200, loss = 2.1441\n",
      "Checking accuracy on the val set\n",
      "Got 341 / 1000 correct (34.10%)\n",
      "\n",
      "Iteration 300, loss = 1.8185\n",
      "Checking accuracy on the val set\n",
      "Got 419 / 1000 correct (41.90%)\n",
      "\n",
      "Iteration 400, loss = 1.8672\n",
      "Checking accuracy on the val set\n",
      "Got 436 / 1000 correct (43.60%)\n",
      "\n",
      "Iteration 500, loss = 2.3741\n",
      "Checking accuracy on the val set\n",
      "Got 390 / 1000 correct (39.00%)\n",
      "\n",
      "Iteration 600, loss = 2.1509\n",
      "Checking accuracy on the val set\n",
      "Got 403 / 1000 correct (40.30%)\n",
      "\n",
      "Iteration 700, loss = 1.6145\n",
      "Checking accuracy on the val set\n",
      "Got 408 / 1000 correct (40.80%)\n",
      "\n"
     ]
    }
   ],
   "source": [
    "hidden_layer_size = 4000\n",
    "learning_rate = 1e-2\n",
    "\n",
    "w1 = random_weight((3 * 32 * 32, hidden_layer_size))\n",
    "w2 = random_weight((hidden_layer_size, 10))\n",
    "\n",
    "train_part2(two_layer_fc, [w1, w2], learning_rate)"
   ]
  },
  {
   "cell_type": "markdown",
   "metadata": {
    "id": "lS4Uyi-sOG3d"
   },
   "source": [
    "### 2.8 BareBones PyTorch: Training a ConvNet\n",
    "\n"
   ]
  },
  {
   "cell_type": "code",
   "execution_count": 12,
   "metadata": {
    "colab": {
     "base_uri": "https://localhost:8080/"
    },
    "executionInfo": {
     "elapsed": 13862,
     "status": "ok",
     "timestamp": 1670397917236,
     "user": {
      "displayName": "Alireza Salehi Hosseinabadi",
      "userId": "11466110803611413910"
     },
     "user_tz": -210
    },
    "id": "barebones_accuracy",
    "outputId": "dae0d7fb-85bc-4582-8c2b-7a41e82ab155"
   },
   "outputs": [
    {
     "name": "stdout",
     "output_type": "stream",
     "text": [
      "Iteration 0, loss = 4.0691\n",
      "Checking accuracy on the val set\n",
      "Got 124 / 1000 correct (12.40%)\n",
      "\n",
      "Iteration 100, loss = 1.7590\n",
      "Checking accuracy on the val set\n",
      "Got 336 / 1000 correct (33.60%)\n",
      "\n",
      "Iteration 200, loss = 1.8604\n",
      "Checking accuracy on the val set\n",
      "Got 386 / 1000 correct (38.60%)\n",
      "\n",
      "Iteration 300, loss = 1.6076\n",
      "Checking accuracy on the val set\n",
      "Got 419 / 1000 correct (41.90%)\n",
      "\n",
      "Iteration 400, loss = 1.6719\n",
      "Checking accuracy on the val set\n",
      "Got 437 / 1000 correct (43.70%)\n",
      "\n",
      "Iteration 500, loss = 1.6423\n",
      "Checking accuracy on the val set\n",
      "Got 444 / 1000 correct (44.40%)\n",
      "\n",
      "Iteration 600, loss = 1.4750\n",
      "Checking accuracy on the val set\n",
      "Got 457 / 1000 correct (45.70%)\n",
      "\n",
      "Iteration 700, loss = 1.6737\n",
      "Checking accuracy on the val set\n",
      "Got 463 / 1000 correct (46.30%)\n",
      "\n"
     ]
    }
   ],
   "source": [
    "learning_rate = 3e-3\n",
    "\n",
    "channel_1 = 32\n",
    "channel_2 = 16\n",
    "\n",
    "conv_w1 = None\n",
    "conv_b1 = None\n",
    "conv_w2 = None\n",
    "conv_b2 = None\n",
    "fc_w = None\n",
    "fc_b = None\n",
    "\n",
    "################################################################################\n",
    "# TODO: Initialize the parameters of a three-layer ConvNet.                    #\n",
    "################################################################################\n",
    "# *****START OF YOUR CODE (DO NOT DELETE/MODIFY THIS LINE)*****\n",
    "conv_w1 = random_weight((channel_1, 3, 5, 5))\n",
    "conv_b1 = zero_weight((channel_1,))\n",
    "conv_w2 = random_weight((channel_2, channel_1, 3, 3))\n",
    "conv_b2 = zero_weight((channel_2,))\n",
    "fc_w = random_weight((32 * 32 * 16, 10))\n",
    "fc_b = zero_weight((10,))\n",
    "# *****END OF YOUR CODE (DO NOT DELETE/MODIFY THIS LINE)*****\n",
    "################################################################################\n",
    "#                                 END OF YOUR CODE                             #\n",
    "################################################################################\n",
    "\n",
    "params = [conv_w1, conv_b1, conv_w2, conv_b2, fc_w, fc_b]\n",
    "train_part2(three_layer_convnet, params, learning_rate)"
   ]
  },
  {
   "cell_type": "markdown",
   "metadata": {
    "id": "DVJXJ4TIOG3e"
   },
   "source": [
    "# 3. PyTorch Module API\n",
    "\n",
    "\n",
    "### 3.1 Module API: Two-Layer Network\n"
   ]
  },
  {
   "cell_type": "code",
   "execution_count": 13,
   "metadata": {
    "colab": {
     "base_uri": "https://localhost:8080/"
    },
    "executionInfo": {
     "elapsed": 11,
     "status": "ok",
     "timestamp": 1670397917237,
     "user": {
      "displayName": "Alireza Salehi Hosseinabadi",
      "userId": "11466110803611413910"
     },
     "user_tz": -210
    },
    "id": "b2CT6O4QOG3e",
    "outputId": "3a859f3d-6d63-4878-f7d6-464ab4daca29"
   },
   "outputs": [
    {
     "name": "stdout",
     "output_type": "stream",
     "text": [
      "torch.Size([64, 10])\n"
     ]
    }
   ],
   "source": [
    "class TwoLayerFC(nn.Module):\n",
    "    def __init__(self, input_size, hidden_size, num_classes):\n",
    "        super().__init__()\n",
    "        # assign layer objects to class attributes\n",
    "        self.fc1 = nn.Linear(input_size, hidden_size)\n",
    "        # nn.init package contains convenient initialization methods\n",
    "        # http://pytorch.org/docs/master/nn.html#torch-nn-init \n",
    "        nn.init.kaiming_normal_(self.fc1.weight)\n",
    "        self.fc2 = nn.Linear(hidden_size, num_classes)\n",
    "        nn.init.kaiming_normal_(self.fc2.weight)\n",
    "    \n",
    "    def forward(self, x):\n",
    "        # forward always defines connectivity\n",
    "        x = flatten(x)\n",
    "        scores = self.fc2(F.relu(self.fc1(x)))\n",
    "        return scores\n",
    "\n",
    "def test_TwoLayerFC():\n",
    "    input_size = 50\n",
    "    x = torch.zeros((64, input_size), dtype=dtype)  # minibatch size 64, feature dimension 50\n",
    "    model = TwoLayerFC(input_size, 42, 10)\n",
    "    scores = model(x)\n",
    "    print(scores.size())  # you should see [64, 10]\n",
    "test_TwoLayerFC()"
   ]
  },
  {
   "cell_type": "markdown",
   "metadata": {
    "id": "gxH5CoudOG3e"
   },
   "source": [
    "### 3.2 Module API: Three-Layer ConvNet\n"
   ]
  },
  {
   "cell_type": "code",
   "execution_count": 14,
   "metadata": {
    "colab": {
     "base_uri": "https://localhost:8080/"
    },
    "executionInfo": {
     "elapsed": 10,
     "status": "ok",
     "timestamp": 1670397917237,
     "user": {
      "displayName": "Alireza Salehi Hosseinabadi",
      "userId": "11466110803611413910"
     },
     "user_tz": -210
    },
    "id": "module_output_shape",
    "outputId": "e5521f33-1790-4db1-91d6-4b247d8c7e20"
   },
   "outputs": [
    {
     "name": "stdout",
     "output_type": "stream",
     "text": [
      "torch.Size([64, 10])\n"
     ]
    }
   ],
   "source": [
    "class ThreeLayerConvNet(nn.Module):\n",
    "    def __init__(self, in_channel, channel_1, channel_2, num_classes):\n",
    "        super().__init__()\n",
    "        ########################################################################\n",
    "        # TODO: Set up the layers you need for a three-layer ConvNet with the  #\n",
    "        # architecture defined above.                                          #\n",
    "        ########################################################################\n",
    "        # *****START OF YOUR CODE (DO NOT DELETE/MODIFY THIS LINE)*****\n",
    "\n",
    "        self.conv1 = nn.Conv2d(in_channel, channel_1, 5, padding = 2)\n",
    "        self.conv2 = nn.Conv2d(channel_1, channel_2, 3, padding = 1)\n",
    "        self.fc = nn.Linear(channel_2 * 32 * 32 , num_classes)\n",
    "        \n",
    "        nn.init.kaiming_normal_(self.conv1.weight)\n",
    "        nn.init.kaiming_normal_(self.conv2.weight)\n",
    "        nn.init.kaiming_normal_(self.fc.weight)\n",
    "\n",
    "        # *****END OF YOUR CODE (DO NOT DELETE/MODIFY THIS LINE)*****\n",
    "        ########################################################################\n",
    "        #                          END OF YOUR CODE                            #       \n",
    "        ########################################################################\n",
    "\n",
    "    def forward(self, x):\n",
    "        scores = None\n",
    "        ########################################################################\n",
    "        # TODO: Implement the forward function for a 3-layer ConvNet. you      #\n",
    "        # should use the layers you defined in __init__ and specify the        #\n",
    "        # connectivity of those layers in forward()                            #\n",
    "        ########################################################################\n",
    "        # *****START OF YOUR CODE (DO NOT DELETE/MODIFY THIS LINE)*****\n",
    "\n",
    "        l1_op = F.relu(self.conv1(x))\n",
    "        l2_op = F.relu(self.conv2(l1_op))\n",
    "        scores = self.fc(flatten(l2_op))\n",
    "\n",
    "        # *****END OF YOUR CODE (DO NOT DELETE/MODIFY THIS LINE)*****\n",
    "        ########################################################################\n",
    "        #                             END OF YOUR CODE                         #\n",
    "        ########################################################################\n",
    "        return scores\n",
    "\n",
    "\n",
    "def test_ThreeLayerConvNet():\n",
    "    x = torch.zeros((64, 3, 32, 32), dtype=dtype)  # minibatch size 64, image size [3, 32, 32]\n",
    "    model = ThreeLayerConvNet(in_channel=3, channel_1=12, channel_2=8, num_classes=10)\n",
    "    scores = model(x)\n",
    "    print(scores.size())  # you should see [64, 10]\n",
    "test_ThreeLayerConvNet()"
   ]
  },
  {
   "cell_type": "markdown",
   "metadata": {
    "id": "2GtRlffqOG3f"
   },
   "source": [
    "### 3.3 Module API: Check Accuracy\n"
   ]
  },
  {
   "cell_type": "code",
   "execution_count": 15,
   "metadata": {
    "executionInfo": {
     "elapsed": 7,
     "status": "ok",
     "timestamp": 1670397917237,
     "user": {
      "displayName": "Alireza Salehi Hosseinabadi",
      "userId": "11466110803611413910"
     },
     "user_tz": -210
    },
    "id": "DHPuHa63OG3f"
   },
   "outputs": [],
   "source": [
    "def check_accuracy_part34(loader, model):\n",
    "    if loader.dataset.train:\n",
    "        print('Checking accuracy on validation set')\n",
    "    else:\n",
    "        print('Checking accuracy on test set')   \n",
    "    num_correct = 0\n",
    "    num_samples = 0\n",
    "    model.eval()  # set model to evaluation mode\n",
    "    with torch.no_grad():\n",
    "        for x, y in loader:\n",
    "            x = x.to(device=device, dtype=dtype)  # move to device, e.g. GPU\n",
    "            y = y.to(device=device, dtype=torch.long)\n",
    "            scores = model(x)\n",
    "            _, preds = scores.max(1)\n",
    "            num_correct += (preds == y).sum()\n",
    "            num_samples += preds.size(0)\n",
    "        acc = float(num_correct) / num_samples\n",
    "        print('Got %d / %d correct (%.2f)' % (num_correct, num_samples, 100 * acc))"
   ]
  },
  {
   "cell_type": "markdown",
   "metadata": {
    "id": "JEwmbykWOG3g"
   },
   "source": [
    "### 3.4 Module API: Training Loop\n"
   ]
  },
  {
   "cell_type": "code",
   "execution_count": 16,
   "metadata": {
    "executionInfo": {
     "elapsed": 8,
     "status": "ok",
     "timestamp": 1670397917238,
     "user": {
      "displayName": "Alireza Salehi Hosseinabadi",
      "userId": "11466110803611413910"
     },
     "user_tz": -210
    },
    "id": "qV6IrubcOG3g"
   },
   "outputs": [],
   "source": [
    "def train_part34(model, optimizer, epochs=1):\n",
    "    \"\"\"\n",
    "    Train a model on CIFAR-10 using the PyTorch Module API.\n",
    "    \n",
    "    Inputs:\n",
    "    - model: A PyTorch Module giving the model to train.\n",
    "    - optimizer: An Optimizer object we will use to train the model\n",
    "    - epochs: (Optional) A Python integer giving the number of epochs to train for\n",
    "    \n",
    "    Returns: Nothing, but prints model accuracies during training.\n",
    "    \"\"\"\n",
    "    model = model.to(device=device)  # move the model parameters to CPU/GPU\n",
    "    for e in range(epochs):\n",
    "        for t, (x, y) in enumerate(loader_train):\n",
    "            model.train()  # put model to training mode\n",
    "            x = x.to(device=device, dtype=dtype)  # move to device, e.g. GPU\n",
    "            y = y.to(device=device, dtype=torch.long)\n",
    "\n",
    "            scores = model(x)\n",
    "            loss = F.cross_entropy(scores, y)\n",
    "\n",
    "            # Zero out all of the gradients for the variables which the optimizer\n",
    "            # will update.\n",
    "            optimizer.zero_grad()\n",
    "\n",
    "            # This is the backwards pass: compute the gradient of the loss with\n",
    "            # respect to each  parameter of the model.\n",
    "            loss.backward()\n",
    "\n",
    "            # Actually update the parameters of the model using the gradients\n",
    "            # computed by the backwards pass.\n",
    "            optimizer.step()\n",
    "\n",
    "            if t % print_every == 0:\n",
    "                print('Iteration %d, loss = %.4f' % (t, loss.item()))\n",
    "                check_accuracy_part34(loader_val, model)\n",
    "                print()"
   ]
  },
  {
   "cell_type": "markdown",
   "metadata": {
    "id": "pVaALerSOG3h"
   },
   "source": [
    "### 3.5 Module API: Train a Two-Layer Network\n"
   ]
  },
  {
   "cell_type": "code",
   "execution_count": 17,
   "metadata": {
    "colab": {
     "base_uri": "https://localhost:8080/"
    },
    "executionInfo": {
     "elapsed": 11779,
     "status": "ok",
     "timestamp": 1670397929010,
     "user": {
      "displayName": "Alireza Salehi Hosseinabadi",
      "userId": "11466110803611413910"
     },
     "user_tz": -210
    },
    "id": "v6P_S3n0OG3h",
    "outputId": "78c55527-07ed-4a3a-dca6-bcc56a61215f"
   },
   "outputs": [
    {
     "name": "stdout",
     "output_type": "stream",
     "text": [
      "Iteration 0, loss = 2.9830\n",
      "Checking accuracy on validation set\n",
      "Got 139 / 1000 correct (13.90)\n",
      "\n",
      "Iteration 100, loss = 2.6582\n",
      "Checking accuracy on validation set\n",
      "Got 339 / 1000 correct (33.90)\n",
      "\n",
      "Iteration 200, loss = 2.0469\n",
      "Checking accuracy on validation set\n",
      "Got 375 / 1000 correct (37.50)\n",
      "\n",
      "Iteration 300, loss = 1.8053\n",
      "Checking accuracy on validation set\n",
      "Got 337 / 1000 correct (33.70)\n",
      "\n",
      "Iteration 400, loss = 1.8995\n",
      "Checking accuracy on validation set\n",
      "Got 396 / 1000 correct (39.60)\n",
      "\n",
      "Iteration 500, loss = 1.5847\n",
      "Checking accuracy on validation set\n",
      "Got 402 / 1000 correct (40.20)\n",
      "\n",
      "Iteration 600, loss = 2.1196\n",
      "Checking accuracy on validation set\n",
      "Got 393 / 1000 correct (39.30)\n",
      "\n",
      "Iteration 700, loss = 1.7166\n",
      "Checking accuracy on validation set\n",
      "Got 454 / 1000 correct (45.40)\n",
      "\n"
     ]
    }
   ],
   "source": [
    "hidden_layer_size = 4000\n",
    "learning_rate = 1e-2\n",
    "model = TwoLayerFC(3 * 32 * 32, hidden_layer_size, 10)\n",
    "optimizer = optim.SGD(model.parameters(), lr=learning_rate)\n",
    "\n",
    "train_part34(model, optimizer)"
   ]
  },
  {
   "cell_type": "markdown",
   "metadata": {
    "id": "XuvWAxejOG3h"
   },
   "source": [
    "### 3.6 Module API: Train a Three-Layer ConvNet\n"
   ]
  },
  {
   "cell_type": "code",
   "execution_count": 18,
   "metadata": {
    "colab": {
     "base_uri": "https://localhost:8080/"
    },
    "executionInfo": {
     "elapsed": 13273,
     "status": "ok",
     "timestamp": 1670397942277,
     "user": {
      "displayName": "Alireza Salehi Hosseinabadi",
      "userId": "11466110803611413910"
     },
     "user_tz": -210
    },
    "id": "module_accuracy",
    "outputId": "47ab9ac4-0d64-42fa-cfe9-a4625d48f28e"
   },
   "outputs": [
    {
     "name": "stdout",
     "output_type": "stream",
     "text": [
      "Iteration 0, loss = 2.7924\n",
      "Checking accuracy on validation set\n",
      "Got 100 / 1000 correct (10.00)\n",
      "\n",
      "Iteration 100, loss = 1.8181\n",
      "Checking accuracy on validation set\n",
      "Got 315 / 1000 correct (31.50)\n",
      "\n",
      "Iteration 200, loss = 1.5325\n",
      "Checking accuracy on validation set\n",
      "Got 362 / 1000 correct (36.20)\n",
      "\n",
      "Iteration 300, loss = 1.7122\n",
      "Checking accuracy on validation set\n",
      "Got 400 / 1000 correct (40.00)\n",
      "\n",
      "Iteration 400, loss = 1.7215\n",
      "Checking accuracy on validation set\n",
      "Got 425 / 1000 correct (42.50)\n",
      "\n",
      "Iteration 500, loss = 1.4542\n",
      "Checking accuracy on validation set\n",
      "Got 437 / 1000 correct (43.70)\n",
      "\n",
      "Iteration 600, loss = 1.5585\n",
      "Checking accuracy on validation set\n",
      "Got 452 / 1000 correct (45.20)\n",
      "\n",
      "Iteration 700, loss = 1.8668\n",
      "Checking accuracy on validation set\n",
      "Got 475 / 1000 correct (47.50)\n",
      "\n"
     ]
    }
   ],
   "source": [
    "learning_rate = 3e-3\n",
    "channel_1 = 32\n",
    "channel_2 = 16\n",
    "\n",
    "model = None\n",
    "optimizer = None\n",
    "################################################################################\n",
    "# TODO: Instantiate your ThreeLayerConvNet model and a corresponding optimizer #\n",
    "################################################################################\n",
    "# *****START OF YOUR CODE (DO NOT DELETE/MODIFY THIS LINE)*****\n",
    "model = ThreeLayerConvNet(3, channel_1, channel_2, 10)\n",
    "optimizer = optim.SGD(model.parameters(), lr=learning_rate)\n",
    "# *****END OF YOUR CODE (DO NOT DELETE/MODIFY THIS LINE)*****\n",
    "################################################################################\n",
    "#                                 END OF YOUR CODE                             #\n",
    "################################################################################\n",
    "\n",
    "train_part34(model, optimizer)"
   ]
  },
  {
   "cell_type": "markdown",
   "metadata": {
    "id": "qqmfOloUOG3i"
   },
   "source": [
    "# 4. PyTorch Sequential API\n",
    "\n",
    "### 4.1 Sequential API: Two-Layer Network\n"
   ]
  },
  {
   "cell_type": "code",
   "execution_count": 19,
   "metadata": {
    "colab": {
     "base_uri": "https://localhost:8080/"
    },
    "executionInfo": {
     "elapsed": 12184,
     "status": "ok",
     "timestamp": 1670397954457,
     "user": {
      "displayName": "Alireza Salehi Hosseinabadi",
      "userId": "11466110803611413910"
     },
     "user_tz": -210
    },
    "id": "GxQ3exDcOG3i",
    "outputId": "45e2553c-bf9c-47d9-af65-d79685101ea5"
   },
   "outputs": [
    {
     "name": "stdout",
     "output_type": "stream",
     "text": [
      "Iteration 0, loss = 2.3312\n",
      "Checking accuracy on validation set\n",
      "Got 144 / 1000 correct (14.40)\n",
      "\n",
      "Iteration 100, loss = 1.9752\n",
      "Checking accuracy on validation set\n",
      "Got 427 / 1000 correct (42.70)\n",
      "\n",
      "Iteration 200, loss = 1.9070\n",
      "Checking accuracy on validation set\n",
      "Got 413 / 1000 correct (41.30)\n",
      "\n",
      "Iteration 300, loss = 1.5585\n",
      "Checking accuracy on validation set\n",
      "Got 408 / 1000 correct (40.80)\n",
      "\n",
      "Iteration 400, loss = 1.7667\n",
      "Checking accuracy on validation set\n",
      "Got 426 / 1000 correct (42.60)\n",
      "\n",
      "Iteration 500, loss = 1.7899\n",
      "Checking accuracy on validation set\n",
      "Got 423 / 1000 correct (42.30)\n",
      "\n",
      "Iteration 600, loss = 2.0154\n",
      "Checking accuracy on validation set\n",
      "Got 423 / 1000 correct (42.30)\n",
      "\n",
      "Iteration 700, loss = 1.8374\n",
      "Checking accuracy on validation set\n",
      "Got 433 / 1000 correct (43.30)\n",
      "\n"
     ]
    }
   ],
   "source": [
    "# We need to wrap `flatten` function in a module in order to stack it\n",
    "# in nn.Sequential\n",
    "class Flatten(nn.Module):\n",
    "    def forward(self, x):\n",
    "        return flatten(x)\n",
    "\n",
    "hidden_layer_size = 4000\n",
    "learning_rate = 1e-2\n",
    "\n",
    "model = nn.Sequential(\n",
    "    Flatten(),\n",
    "    nn.Linear(3 * 32 * 32, hidden_layer_size),\n",
    "    nn.ReLU(),\n",
    "    nn.Linear(hidden_layer_size, 10),\n",
    ")\n",
    "\n",
    "# you can use Nesterov momentum in optim.SGD\n",
    "optimizer = optim.SGD(model.parameters(), lr=learning_rate,\n",
    "                     momentum=0.9, nesterov=True)\n",
    "\n",
    "train_part34(model, optimizer)"
   ]
  },
  {
   "cell_type": "markdown",
   "metadata": {
    "id": "PBCcPPVOOG3j"
   },
   "source": [
    "### 4.2 Sequential API: Three-Layer ConvNet\n"
   ]
  },
  {
   "cell_type": "code",
   "execution_count": 20,
   "metadata": {
    "colab": {
     "base_uri": "https://localhost:8080/"
    },
    "executionInfo": {
     "elapsed": 13270,
     "status": "ok",
     "timestamp": 1670397967723,
     "user": {
      "displayName": "Alireza Salehi Hosseinabadi",
      "userId": "11466110803611413910"
     },
     "user_tz": -210
    },
    "id": "sequential_accuracy",
    "outputId": "6d1fc81f-792f-4ead-bb05-dd4eb48234ca"
   },
   "outputs": [
    {
     "name": "stdout",
     "output_type": "stream",
     "text": [
      "Iteration 0, loss = 2.3072\n",
      "Checking accuracy on validation set\n",
      "Got 135 / 1000 correct (13.50)\n",
      "\n",
      "Iteration 100, loss = 1.5996\n",
      "Checking accuracy on validation set\n",
      "Got 452 / 1000 correct (45.20)\n",
      "\n",
      "Iteration 200, loss = 1.4763\n",
      "Checking accuracy on validation set\n",
      "Got 506 / 1000 correct (50.60)\n",
      "\n",
      "Iteration 300, loss = 1.4397\n",
      "Checking accuracy on validation set\n",
      "Got 507 / 1000 correct (50.70)\n",
      "\n",
      "Iteration 400, loss = 1.3213\n",
      "Checking accuracy on validation set\n",
      "Got 537 / 1000 correct (53.70)\n",
      "\n",
      "Iteration 500, loss = 1.1422\n",
      "Checking accuracy on validation set\n",
      "Got 543 / 1000 correct (54.30)\n",
      "\n",
      "Iteration 600, loss = 1.3854\n",
      "Checking accuracy on validation set\n",
      "Got 566 / 1000 correct (56.60)\n",
      "\n",
      "Iteration 700, loss = 1.2714\n",
      "Checking accuracy on validation set\n",
      "Got 557 / 1000 correct (55.70)\n",
      "\n"
     ]
    }
   ],
   "source": [
    "channel_1 = 32\n",
    "channel_2 = 16\n",
    "learning_rate = 1e-2\n",
    "\n",
    "model = None\n",
    "optimizer = None\n",
    "\n",
    "################################################################################\n",
    "# TODO: Rewrite the 2-layer ConvNet with bias from Part III with the           #\n",
    "# Sequential API.                                                              #\n",
    "################################################################################\n",
    "# *****START OF YOUR CODE (DO NOT DELETE/MODIFY THIS LINE)*****\n",
    "model = nn.Sequential( nn.Conv2d(3, channel_1, 5, padding = 2),\n",
    "                       nn.ReLU(),\n",
    "                       nn.Conv2d(channel_1, channel_2, 3, padding = 1),\n",
    "                       nn.ReLU(),\n",
    "                       Flatten(),\n",
    "                       nn.Linear(channel_2 * 32 * 32, 10)\n",
    "                     )\n",
    "optimizer = optim.SGD(model.parameters(), lr = learning_rate, momentum = 0.9, nesterov = True)\n",
    "# *****END OF YOUR CODE (DO NOT DELETE/MODIFY THIS LINE)*****\n",
    "################################################################################\n",
    "#                                 END OF YOUR CODE                             #\n",
    "################################################################################\n",
    "\n",
    "train_part34(model, optimizer)"
   ]
  },
  {
   "cell_type": "markdown",
   "metadata": {
    "id": "8U135-yDOG3j"
   },
   "source": [
    "# 5. CIFAR-10 open-ended challenge\n",
    "\n"
   ]
  },
  {
   "cell_type": "code",
   "execution_count": 21,
   "metadata": {
    "colab": {
     "base_uri": "https://localhost:8080/"
    },
    "executionInfo": {
     "elapsed": 250990,
     "status": "ok",
     "timestamp": 1670398218702,
     "user": {
      "displayName": "Alireza Salehi Hosseinabadi",
      "userId": "11466110803611413910"
     },
     "user_tz": -210
    },
    "id": "open_ended_accuracy",
    "outputId": "3d864734-1854-4dd8-fd77-c5966e1a442f"
   },
   "outputs": [
    {
     "name": "stdout",
     "output_type": "stream",
     "text": [
      "Iteration 0, loss = 2.2965\n",
      "Checking accuracy on validation set\n",
      "Got 107 / 1000 correct (10.70)\n",
      "\n",
      "Iteration 100, loss = 1.6448\n",
      "Checking accuracy on validation set\n",
      "Got 403 / 1000 correct (40.30)\n",
      "\n",
      "Iteration 200, loss = 1.5646\n",
      "Checking accuracy on validation set\n",
      "Got 493 / 1000 correct (49.30)\n",
      "\n",
      "Iteration 300, loss = 1.3750\n",
      "Checking accuracy on validation set\n",
      "Got 531 / 1000 correct (53.10)\n",
      "\n",
      "Iteration 400, loss = 1.4067\n",
      "Checking accuracy on validation set\n",
      "Got 553 / 1000 correct (55.30)\n",
      "\n",
      "Iteration 500, loss = 1.2020\n",
      "Checking accuracy on validation set\n",
      "Got 561 / 1000 correct (56.10)\n",
      "\n",
      "Iteration 600, loss = 1.2126\n",
      "Checking accuracy on validation set\n",
      "Got 597 / 1000 correct (59.70)\n",
      "\n",
      "Iteration 700, loss = 1.1105\n",
      "Checking accuracy on validation set\n",
      "Got 595 / 1000 correct (59.50)\n",
      "\n",
      "Iteration 0, loss = 1.1145\n",
      "Checking accuracy on validation set\n",
      "Got 616 / 1000 correct (61.60)\n",
      "\n",
      "Iteration 100, loss = 1.0785\n",
      "Checking accuracy on validation set\n",
      "Got 625 / 1000 correct (62.50)\n",
      "\n",
      "Iteration 200, loss = 1.2205\n",
      "Checking accuracy on validation set\n",
      "Got 593 / 1000 correct (59.30)\n",
      "\n",
      "Iteration 300, loss = 0.9842\n",
      "Checking accuracy on validation set\n",
      "Got 662 / 1000 correct (66.20)\n",
      "\n",
      "Iteration 400, loss = 0.9154\n",
      "Checking accuracy on validation set\n",
      "Got 645 / 1000 correct (64.50)\n",
      "\n",
      "Iteration 500, loss = 0.8733\n",
      "Checking accuracy on validation set\n",
      "Got 641 / 1000 correct (64.10)\n",
      "\n",
      "Iteration 600, loss = 1.1100\n",
      "Checking accuracy on validation set\n",
      "Got 676 / 1000 correct (67.60)\n",
      "\n",
      "Iteration 700, loss = 0.9120\n",
      "Checking accuracy on validation set\n",
      "Got 656 / 1000 correct (65.60)\n",
      "\n",
      "Iteration 0, loss = 0.8424\n",
      "Checking accuracy on validation set\n",
      "Got 688 / 1000 correct (68.80)\n",
      "\n",
      "Iteration 100, loss = 0.8030\n",
      "Checking accuracy on validation set\n",
      "Got 674 / 1000 correct (67.40)\n",
      "\n",
      "Iteration 200, loss = 0.6917\n",
      "Checking accuracy on validation set\n",
      "Got 677 / 1000 correct (67.70)\n",
      "\n",
      "Iteration 300, loss = 0.8893\n",
      "Checking accuracy on validation set\n",
      "Got 673 / 1000 correct (67.30)\n",
      "\n",
      "Iteration 400, loss = 0.8072\n",
      "Checking accuracy on validation set\n",
      "Got 698 / 1000 correct (69.80)\n",
      "\n",
      "Iteration 500, loss = 0.7547\n",
      "Checking accuracy on validation set\n",
      "Got 697 / 1000 correct (69.70)\n",
      "\n",
      "Iteration 600, loss = 0.8401\n",
      "Checking accuracy on validation set\n",
      "Got 687 / 1000 correct (68.70)\n",
      "\n",
      "Iteration 700, loss = 0.8327\n",
      "Checking accuracy on validation set\n",
      "Got 682 / 1000 correct (68.20)\n",
      "\n",
      "Iteration 0, loss = 0.8384\n",
      "Checking accuracy on validation set\n",
      "Got 698 / 1000 correct (69.80)\n",
      "\n",
      "Iteration 100, loss = 0.7754\n",
      "Checking accuracy on validation set\n",
      "Got 701 / 1000 correct (70.10)\n",
      "\n",
      "Iteration 200, loss = 0.8877\n",
      "Checking accuracy on validation set\n",
      "Got 695 / 1000 correct (69.50)\n",
      "\n",
      "Iteration 300, loss = 0.7420\n",
      "Checking accuracy on validation set\n",
      "Got 700 / 1000 correct (70.00)\n",
      "\n",
      "Iteration 400, loss = 0.9762\n",
      "Checking accuracy on validation set\n",
      "Got 697 / 1000 correct (69.70)\n",
      "\n",
      "Iteration 500, loss = 0.8228\n",
      "Checking accuracy on validation set\n",
      "Got 712 / 1000 correct (71.20)\n",
      "\n",
      "Iteration 600, loss = 0.9372\n",
      "Checking accuracy on validation set\n",
      "Got 726 / 1000 correct (72.60)\n",
      "\n",
      "Iteration 700, loss = 0.8847\n",
      "Checking accuracy on validation set\n",
      "Got 731 / 1000 correct (73.10)\n",
      "\n",
      "Iteration 0, loss = 0.6422\n",
      "Checking accuracy on validation set\n",
      "Got 703 / 1000 correct (70.30)\n",
      "\n",
      "Iteration 100, loss = 0.6940\n",
      "Checking accuracy on validation set\n",
      "Got 726 / 1000 correct (72.60)\n",
      "\n",
      "Iteration 200, loss = 0.7426\n",
      "Checking accuracy on validation set\n",
      "Got 701 / 1000 correct (70.10)\n",
      "\n",
      "Iteration 300, loss = 1.1173\n",
      "Checking accuracy on validation set\n",
      "Got 712 / 1000 correct (71.20)\n",
      "\n",
      "Iteration 400, loss = 0.6984\n",
      "Checking accuracy on validation set\n",
      "Got 715 / 1000 correct (71.50)\n",
      "\n",
      "Iteration 500, loss = 0.8074\n",
      "Checking accuracy on validation set\n",
      "Got 728 / 1000 correct (72.80)\n",
      "\n",
      "Iteration 600, loss = 0.8241\n",
      "Checking accuracy on validation set\n",
      "Got 707 / 1000 correct (70.70)\n",
      "\n",
      "Iteration 700, loss = 0.7764\n",
      "Checking accuracy on validation set\n",
      "Got 745 / 1000 correct (74.50)\n",
      "\n",
      "Iteration 0, loss = 0.6913\n",
      "Checking accuracy on validation set\n",
      "Got 720 / 1000 correct (72.00)\n",
      "\n",
      "Iteration 100, loss = 0.7430\n",
      "Checking accuracy on validation set\n",
      "Got 721 / 1000 correct (72.10)\n",
      "\n",
      "Iteration 200, loss = 0.6359\n",
      "Checking accuracy on validation set\n",
      "Got 740 / 1000 correct (74.00)\n",
      "\n",
      "Iteration 300, loss = 0.7028\n",
      "Checking accuracy on validation set\n",
      "Got 736 / 1000 correct (73.60)\n",
      "\n",
      "Iteration 400, loss = 0.4448\n",
      "Checking accuracy on validation set\n",
      "Got 750 / 1000 correct (75.00)\n",
      "\n",
      "Iteration 500, loss = 0.4683\n",
      "Checking accuracy on validation set\n",
      "Got 747 / 1000 correct (74.70)\n",
      "\n",
      "Iteration 600, loss = 1.0456\n",
      "Checking accuracy on validation set\n",
      "Got 747 / 1000 correct (74.70)\n",
      "\n",
      "Iteration 700, loss = 0.7226\n",
      "Checking accuracy on validation set\n",
      "Got 750 / 1000 correct (75.00)\n",
      "\n",
      "Iteration 0, loss = 0.5611\n",
      "Checking accuracy on validation set\n",
      "Got 761 / 1000 correct (76.10)\n",
      "\n",
      "Iteration 100, loss = 0.6090\n",
      "Checking accuracy on validation set\n",
      "Got 729 / 1000 correct (72.90)\n",
      "\n",
      "Iteration 200, loss = 0.7053\n",
      "Checking accuracy on validation set\n",
      "Got 734 / 1000 correct (73.40)\n",
      "\n",
      "Iteration 300, loss = 0.6887\n",
      "Checking accuracy on validation set\n",
      "Got 752 / 1000 correct (75.20)\n",
      "\n",
      "Iteration 400, loss = 0.5378\n",
      "Checking accuracy on validation set\n",
      "Got 762 / 1000 correct (76.20)\n",
      "\n",
      "Iteration 500, loss = 0.5715\n",
      "Checking accuracy on validation set\n",
      "Got 754 / 1000 correct (75.40)\n",
      "\n",
      "Iteration 600, loss = 0.6300\n",
      "Checking accuracy on validation set\n",
      "Got 753 / 1000 correct (75.30)\n",
      "\n",
      "Iteration 700, loss = 0.4933\n",
      "Checking accuracy on validation set\n",
      "Got 761 / 1000 correct (76.10)\n",
      "\n",
      "Iteration 0, loss = 0.7849\n",
      "Checking accuracy on validation set\n",
      "Got 749 / 1000 correct (74.90)\n",
      "\n",
      "Iteration 100, loss = 0.4058\n",
      "Checking accuracy on validation set\n",
      "Got 754 / 1000 correct (75.40)\n",
      "\n",
      "Iteration 200, loss = 0.6608\n",
      "Checking accuracy on validation set\n",
      "Got 760 / 1000 correct (76.00)\n",
      "\n",
      "Iteration 300, loss = 0.6562\n",
      "Checking accuracy on validation set\n",
      "Got 767 / 1000 correct (76.70)\n",
      "\n",
      "Iteration 400, loss = 0.8669\n",
      "Checking accuracy on validation set\n",
      "Got 765 / 1000 correct (76.50)\n",
      "\n",
      "Iteration 500, loss = 0.5886\n",
      "Checking accuracy on validation set\n",
      "Got 760 / 1000 correct (76.00)\n",
      "\n",
      "Iteration 600, loss = 0.6770\n",
      "Checking accuracy on validation set\n",
      "Got 767 / 1000 correct (76.70)\n",
      "\n",
      "Iteration 700, loss = 0.7288\n",
      "Checking accuracy on validation set\n",
      "Got 758 / 1000 correct (75.80)\n",
      "\n",
      "Iteration 0, loss = 0.5129\n",
      "Checking accuracy on validation set\n",
      "Got 739 / 1000 correct (73.90)\n",
      "\n",
      "Iteration 100, loss = 0.5942\n",
      "Checking accuracy on validation set\n",
      "Got 770 / 1000 correct (77.00)\n",
      "\n",
      "Iteration 200, loss = 0.7549\n",
      "Checking accuracy on validation set\n",
      "Got 773 / 1000 correct (77.30)\n",
      "\n",
      "Iteration 300, loss = 0.7663\n",
      "Checking accuracy on validation set\n",
      "Got 738 / 1000 correct (73.80)\n",
      "\n",
      "Iteration 400, loss = 0.6141\n",
      "Checking accuracy on validation set\n",
      "Got 780 / 1000 correct (78.00)\n",
      "\n",
      "Iteration 500, loss = 0.5172\n",
      "Checking accuracy on validation set\n",
      "Got 769 / 1000 correct (76.90)\n",
      "\n",
      "Iteration 600, loss = 0.8237\n",
      "Checking accuracy on validation set\n",
      "Got 776 / 1000 correct (77.60)\n",
      "\n",
      "Iteration 700, loss = 0.6553\n",
      "Checking accuracy on validation set\n",
      "Got 780 / 1000 correct (78.00)\n",
      "\n",
      "Iteration 0, loss = 0.4292\n",
      "Checking accuracy on validation set\n",
      "Got 762 / 1000 correct (76.20)\n",
      "\n",
      "Iteration 100, loss = 0.6704\n",
      "Checking accuracy on validation set\n",
      "Got 764 / 1000 correct (76.40)\n",
      "\n",
      "Iteration 200, loss = 0.7039\n",
      "Checking accuracy on validation set\n",
      "Got 772 / 1000 correct (77.20)\n",
      "\n",
      "Iteration 300, loss = 0.5329\n",
      "Checking accuracy on validation set\n",
      "Got 785 / 1000 correct (78.50)\n",
      "\n",
      "Iteration 400, loss = 0.4488\n",
      "Checking accuracy on validation set\n",
      "Got 780 / 1000 correct (78.00)\n",
      "\n",
      "Iteration 500, loss = 0.5899\n",
      "Checking accuracy on validation set\n",
      "Got 765 / 1000 correct (76.50)\n",
      "\n",
      "Iteration 600, loss = 0.5529\n",
      "Checking accuracy on validation set\n",
      "Got 768 / 1000 correct (76.80)\n",
      "\n",
      "Iteration 700, loss = 0.7060\n",
      "Checking accuracy on validation set\n",
      "Got 773 / 1000 correct (77.30)\n",
      "\n"
     ]
    }
   ],
   "source": [
    "################################################################################\n",
    "# TODO:                                                                        #         \n",
    "# Experiment with any architectures, optimizers, and hyperparameters.          #\n",
    "# Achieve AT LEAST 70% accuracy on the *validation set* within 10 epochs.      #\n",
    "#                                                                              #\n",
    "# Note that you can use the check_accuracy function to evaluate on either      #\n",
    "# the test set or the validation set, by passing either loader_test or         #\n",
    "# loader_val as the second argument to check_accuracy. You should not touch    #\n",
    "# the test set until you have finished your architecture and  hyperparameter   #\n",
    "# tuning, and only run the test set once at the end to report a final value.   #\n",
    "################################################################################\n",
    "model = None\n",
    "optimizer = None\n",
    "\n",
    "# *****START OF YOUR CODE (DO NOT DELETE/MODIFY THIS LINE)*****\n",
    "learning_rate = 1e-3\n",
    "\n",
    "class MyNet(nn.Module):\n",
    "    def __init__(self, num_classes=10):\n",
    "        super(MyNet, self).__init__()\n",
    "        self.layers = nn.Sequential(\n",
    "            nn.Conv2d(3, 32, kernel_size=3, stride=1, padding=1), #(64,32,32,32)\n",
    "            nn.ReLU(inplace=True),\n",
    "            nn.MaxPool2d(kernel_size=2, stride=1, padding=1), #(64,32,32,32)\n",
    "            \n",
    "            nn.Conv2d(32, 64, kernel_size=5, stride=1, padding=0), #(64,64,28,28)\n",
    "            nn.ReLU(inplace=True),\n",
    "            nn.MaxPool2d(kernel_size=2, stride=1, padding=1), #(64,64,28,28)\n",
    "            \n",
    "            nn.Conv2d(64, 128, kernel_size=3, stride=1, padding=1),  #(64,128,28,28)\n",
    "            nn.ReLU(inplace=True),\n",
    "            \n",
    "            nn.Conv2d(128, 256, kernel_size=3, stride=1, padding=1), #(64,256,28,28)\n",
    "            nn.ReLU(inplace=True),\n",
    "            nn.MaxPool2d(kernel_size=2, stride=2), #(64,256,14,14)\n",
    "        )\n",
    "        self.avgpool = nn.AdaptiveAvgPool2d((7, 7)) #(64,256,7,7)\n",
    "        self.classifier = nn.Sequential(\n",
    "            nn.Dropout(),\n",
    "            nn.Linear(256 * 7 * 7, num_classes),\n",
    "        )\n",
    "    def forward(self, x):\n",
    "        x = self.layers(x)\n",
    "        x = self.avgpool(x)\n",
    "        x = x.view(x.size(0), -1)\n",
    "        x = self.classifier(x)\n",
    "        scores = x\n",
    "        return scores\n",
    "\n",
    "model = MyNet()\n",
    "optimizer = optim.Adam(model.parameters(), lr=learning_rate)\n",
    "# *****END OF YOUR CODE (DO NOT DELETE/MODIFY THIS LINE)*****\n",
    "################################################################################\n",
    "#                                 END OF YOUR CODE                             #\n",
    "################################################################################\n",
    "\n",
    "# You should get at least 70% accuracy\n",
    "train_part34(model, optimizer, epochs=10)"
   ]
  },
  {
   "cell_type": "code",
   "execution_count": 22,
   "metadata": {
    "colab": {
     "base_uri": "https://localhost:8080/"
    },
    "executionInfo": {
     "elapsed": 2100,
     "status": "ok",
     "timestamp": 1670398220795,
     "user": {
      "displayName": "Alireza Salehi Hosseinabadi",
      "userId": "11466110803611413910"
     },
     "user_tz": -210
    },
    "id": "qpZIUFNLOG3k",
    "outputId": "4d4822fe-ce09-438c-bab7-714f3d5b61a4"
   },
   "outputs": [
    {
     "name": "stdout",
     "output_type": "stream",
     "text": [
      "Checking accuracy on test set\n",
      "Got 7685 / 10000 correct (76.85)\n"
     ]
    }
   ],
   "source": [
    "best_model = model\n",
    "check_accuracy_part34(loader_test, best_model)"
   ]
  }
 ],
 "metadata": {
  "accelerator": "GPU",
  "colab": {
   "provenance": []
  },
  "gpuClass": "standard",
  "kernelspec": {
   "display_name": "Python 3 (ipykernel)",
   "language": "python",
   "name": "python3"
  },
  "language_info": {
   "codemirror_mode": {
    "name": "ipython",
    "version": 3
   },
   "file_extension": ".py",
   "mimetype": "text/x-python",
   "name": "python",
   "nbconvert_exporter": "python",
   "pygments_lexer": "ipython3",
   "version": "3.9.13"
  }
 },
 "nbformat": 4,
 "nbformat_minor": 4
}
